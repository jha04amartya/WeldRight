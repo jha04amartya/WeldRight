{
 "cells": [
  {
   "cell_type": "markdown",
   "id": "051dfed9",
   "metadata": {},
   "source": [
    "# *IMPORTING USEFUL LIBRARIES*"
   ]
  },
  {
   "cell_type": "code",
   "execution_count": 1,
   "id": "1ba26e44",
   "metadata": {},
   "outputs": [],
   "source": [
    "import pandas as pd\n",
    "import seaborn as sns\n",
    "import matplotlib.pyplot as plt\n",
    "import numpy as np\n",
    "import scipy.stats as stats"
   ]
  },
  {
   "cell_type": "markdown",
   "id": "302ad2d0",
   "metadata": {},
   "source": [
    "# *DATA ANALYSIS*"
   ]
  },
  {
   "cell_type": "markdown",
   "id": "bfe01b12",
   "metadata": {},
   "source": [
    "### *Importing Data*"
   ]
  },
  {
   "cell_type": "code",
   "execution_count": 2,
   "id": "91531ebb",
   "metadata": {},
   "outputs": [
    {
     "name": "stderr",
     "output_type": "stream",
     "text": [
      "C:\\Users\\Kumar Aman\\anaconda3\\lib\\site-packages\\IPython\\core\\interactiveshell.py:3444: DtypeWarning: Columns (0,2,3,6,7,8,9,10,11,22,27,32,37,42,47,52,57,62,67,72,77,82,87) have mixed types.Specify dtype option on import or set low_memory=False.\n",
      "  exec(code_obj, self.user_global_ns, self.user_ns)\n"
     ]
    }
   ],
   "source": [
    "data =pd.read_csv(\"WeldRight1.csv\")"
   ]
  },
  {
   "cell_type": "code",
   "execution_count": 3,
   "id": "51efb670",
   "metadata": {},
   "outputs": [
    {
     "data": {
      "text/html": [
       "<div>\n",
       "<style scoped>\n",
       "    .dataframe tbody tr th:only-of-type {\n",
       "        vertical-align: middle;\n",
       "    }\n",
       "\n",
       "    .dataframe tbody tr th {\n",
       "        vertical-align: top;\n",
       "    }\n",
       "\n",
       "    .dataframe thead th {\n",
       "        text-align: right;\n",
       "    }\n",
       "</style>\n",
       "<table border=\"1\" class=\"dataframe\">\n",
       "  <thead>\n",
       "    <tr style=\"text-align: right;\">\n",
       "      <th></th>\n",
       "      <th>Employee Code</th>\n",
       "      <th>Machine</th>\n",
       "      <th>Production</th>\n",
       "      <th>Order Operation No</th>\n",
       "      <th>Date</th>\n",
       "      <th>Time</th>\n",
       "      <th>Current</th>\n",
       "      <th>Humidity</th>\n",
       "      <th>Temperature</th>\n",
       "      <th>Flow</th>\n",
       "      <th>...</th>\n",
       "      <th>Unnamed: 78</th>\n",
       "      <th>Unnamed: 79</th>\n",
       "      <th>Unnamed: 80</th>\n",
       "      <th>Unnamed: 81</th>\n",
       "      <th>Unnamed: 82</th>\n",
       "      <th>Unnamed: 83</th>\n",
       "      <th>Unnamed: 84</th>\n",
       "      <th>Unnamed: 85</th>\n",
       "      <th>Unnamed: 86</th>\n",
       "      <th>Unnamed: 87</th>\n",
       "    </tr>\n",
       "  </thead>\n",
       "  <tbody>\n",
       "    <tr>\n",
       "      <th>0</th>\n",
       "      <td>(Office id of employee)</td>\n",
       "      <td>(Welding machine name)</td>\n",
       "      <td>(Project order number)</td>\n",
       "      <td>(This captures the activity to be performed by...</td>\n",
       "      <td>(date of activity)</td>\n",
       "      <td>(Timestamp for the activity)</td>\n",
       "      <td>(In Ampere)</td>\n",
       "      <td>(Relative humidity in %)</td>\n",
       "      <td>(in degree celsius)</td>\n",
       "      <td>(in liters per min (LPM))</td>\n",
       "      <td>...</td>\n",
       "      <td>NaN</td>\n",
       "      <td>NaN</td>\n",
       "      <td>NaN</td>\n",
       "      <td>NaN</td>\n",
       "      <td>NaN</td>\n",
       "      <td>NaN</td>\n",
       "      <td>NaN</td>\n",
       "      <td>NaN</td>\n",
       "      <td>NaN</td>\n",
       "      <td>NaN</td>\n",
       "    </tr>\n",
       "    <tr>\n",
       "      <th>1</th>\n",
       "      <td>382617</td>\n",
       "      <td>TWLD23</td>\n",
       "      <td>E15002965</td>\n",
       "      <td>240</td>\n",
       "      <td>10-09-2022 00:00</td>\n",
       "      <td>7:32:28:527</td>\n",
       "      <td>1.13</td>\n",
       "      <td>74</td>\n",
       "      <td>23</td>\n",
       "      <td>0.01</td>\n",
       "      <td>...</td>\n",
       "      <td>NaN</td>\n",
       "      <td>NaN</td>\n",
       "      <td>NaN</td>\n",
       "      <td>NaN</td>\n",
       "      <td>NaN</td>\n",
       "      <td>NaN</td>\n",
       "      <td>NaN</td>\n",
       "      <td>NaN</td>\n",
       "      <td>NaN</td>\n",
       "      <td>NaN</td>\n",
       "    </tr>\n",
       "    <tr>\n",
       "      <th>2</th>\n",
       "      <td>382617</td>\n",
       "      <td>TWLD23</td>\n",
       "      <td>E15002965</td>\n",
       "      <td>240</td>\n",
       "      <td>10-09-2022 00:00</td>\n",
       "      <td>7:32:29:40</td>\n",
       "      <td>1.82</td>\n",
       "      <td>74</td>\n",
       "      <td>23</td>\n",
       "      <td>0</td>\n",
       "      <td>...</td>\n",
       "      <td>NaN</td>\n",
       "      <td>NaN</td>\n",
       "      <td>NaN</td>\n",
       "      <td>NaN</td>\n",
       "      <td>NaN</td>\n",
       "      <td>NaN</td>\n",
       "      <td>NaN</td>\n",
       "      <td>NaN</td>\n",
       "      <td>NaN</td>\n",
       "      <td>NaN</td>\n",
       "    </tr>\n",
       "    <tr>\n",
       "      <th>3</th>\n",
       "      <td>382617</td>\n",
       "      <td>TWLD23</td>\n",
       "      <td>E15002965</td>\n",
       "      <td>240</td>\n",
       "      <td>10-09-2022 00:00</td>\n",
       "      <td>7:32:29:677</td>\n",
       "      <td>2.91</td>\n",
       "      <td>74</td>\n",
       "      <td>23</td>\n",
       "      <td>0</td>\n",
       "      <td>...</td>\n",
       "      <td>NaN</td>\n",
       "      <td>NaN</td>\n",
       "      <td>NaN</td>\n",
       "      <td>NaN</td>\n",
       "      <td>NaN</td>\n",
       "      <td>NaN</td>\n",
       "      <td>NaN</td>\n",
       "      <td>NaN</td>\n",
       "      <td>NaN</td>\n",
       "      <td>NaN</td>\n",
       "    </tr>\n",
       "    <tr>\n",
       "      <th>4</th>\n",
       "      <td>382617</td>\n",
       "      <td>TWLD23</td>\n",
       "      <td>E15002965</td>\n",
       "      <td>240</td>\n",
       "      <td>10-09-2022 00:00</td>\n",
       "      <td>7:32:30:166</td>\n",
       "      <td>0.04</td>\n",
       "      <td>74</td>\n",
       "      <td>23</td>\n",
       "      <td>0</td>\n",
       "      <td>...</td>\n",
       "      <td>NaN</td>\n",
       "      <td>NaN</td>\n",
       "      <td>NaN</td>\n",
       "      <td>NaN</td>\n",
       "      <td>NaN</td>\n",
       "      <td>NaN</td>\n",
       "      <td>NaN</td>\n",
       "      <td>NaN</td>\n",
       "      <td>NaN</td>\n",
       "      <td>NaN</td>\n",
       "    </tr>\n",
       "  </tbody>\n",
       "</table>\n",
       "<p>5 rows × 88 columns</p>\n",
       "</div>"
      ],
      "text/plain": [
       "             Employee Code                 Machine              Production  \\\n",
       "0  (Office id of employee)  (Welding machine name)  (Project order number)   \n",
       "1                   382617                  TWLD23               E15002965   \n",
       "2                   382617                  TWLD23               E15002965   \n",
       "3                   382617                  TWLD23               E15002965   \n",
       "4                   382617                  TWLD23               E15002965   \n",
       "\n",
       "                                  Order Operation No                Date  \\\n",
       "0  (This captures the activity to be performed by...  (date of activity)   \n",
       "1                                                240    10-09-2022 00:00   \n",
       "2                                                240    10-09-2022 00:00   \n",
       "3                                                240    10-09-2022 00:00   \n",
       "4                                                240    10-09-2022 00:00   \n",
       "\n",
       "                           Time      Current                  Humidity  \\\n",
       "0  (Timestamp for the activity)  (In Ampere)  (Relative humidity in %)   \n",
       "1                   7:32:28:527         1.13                        74   \n",
       "2                    7:32:29:40         1.82                        74   \n",
       "3                   7:32:29:677         2.91                        74   \n",
       "4                   7:32:30:166         0.04                        74   \n",
       "\n",
       "           Temperature                       Flow  ... Unnamed: 78  \\\n",
       "0  (in degree celsius)  (in liters per min (LPM))  ...         NaN   \n",
       "1                   23                       0.01  ...         NaN   \n",
       "2                   23                          0  ...         NaN   \n",
       "3                   23                          0  ...         NaN   \n",
       "4                   23                          0  ...         NaN   \n",
       "\n",
       "  Unnamed: 79 Unnamed: 80 Unnamed: 81  Unnamed: 82  Unnamed: 83  Unnamed: 84  \\\n",
       "0         NaN         NaN         NaN          NaN          NaN          NaN   \n",
       "1         NaN         NaN         NaN          NaN          NaN          NaN   \n",
       "2         NaN         NaN         NaN          NaN          NaN          NaN   \n",
       "3         NaN         NaN         NaN          NaN          NaN          NaN   \n",
       "4         NaN         NaN         NaN          NaN          NaN          NaN   \n",
       "\n",
       "   Unnamed: 85  Unnamed: 86  Unnamed: 87  \n",
       "0          NaN          NaN          NaN  \n",
       "1          NaN          NaN          NaN  \n",
       "2          NaN          NaN          NaN  \n",
       "3          NaN          NaN          NaN  \n",
       "4          NaN          NaN          NaN  \n",
       "\n",
       "[5 rows x 88 columns]"
      ]
     },
     "execution_count": 3,
     "metadata": {},
     "output_type": "execute_result"
    }
   ],
   "source": [
    "data.head()"
   ]
  },
  {
   "cell_type": "markdown",
   "id": "3f76bc22",
   "metadata": {},
   "source": [
    "### *Dropping Unwanted Coloumns*"
   ]
  },
  {
   "cell_type": "code",
   "execution_count": 4,
   "id": "73a07191",
   "metadata": {},
   "outputs": [],
   "source": [
    "data.drop([ 'Unnamed: 14', 'Unnamed: 15',\n",
    "       'Unnamed: 16', 'Unnamed: 17', 'Unnamed: 18', 'Unnamed: 19',\n",
    "       'Unnamed: 20', 'Unnamed: 21', 'Unnamed: 22', 'Unnamed: 23',\n",
    "       'Unnamed: 24', 'Unnamed: 25', 'Unnamed: 26', 'Unnamed: 27',\n",
    "       'Unnamed: 28', 'Unnamed: 29', 'Unnamed: 30', 'Unnamed: 31',\n",
    "       'Unnamed: 32', 'Unnamed: 33', 'Unnamed: 34', 'Unnamed: 35',\n",
    "       'Unnamed: 36', 'Unnamed: 37', 'Unnamed: 38', 'Unnamed: 39',\n",
    "       'Unnamed: 40', 'Unnamed: 41', 'Unnamed: 42', 'Unnamed: 43',\n",
    "       'Unnamed: 44', 'Unnamed: 45', 'Unnamed: 46', 'Unnamed: 47',\n",
    "       'Unnamed: 48', 'Unnamed: 49', 'Unnamed: 50', 'Unnamed: 51',\n",
    "       'Unnamed: 52', 'Unnamed: 53', 'Unnamed: 54', 'Unnamed: 55',\n",
    "       'Unnamed: 56', 'Unnamed: 57', 'Unnamed: 58', 'Unnamed: 59',\n",
    "       'Unnamed: 60', 'Unnamed: 61', 'Unnamed: 62', 'Unnamed: 63',\n",
    "       'Unnamed: 64', 'Unnamed: 65', 'Unnamed: 66', 'Unnamed: 67',\n",
    "       'Unnamed: 68', 'Unnamed: 69', 'Unnamed: 70', 'Unnamed: 71',\n",
    "       'Unnamed: 72', 'Unnamed: 73', 'Unnamed: 74', 'Unnamed: 75',\n",
    "       'Unnamed: 76', 'Unnamed: 77', 'Unnamed: 78', 'Unnamed: 79',\n",
    "       'Unnamed: 80', 'Unnamed: 81', 'Unnamed: 82', 'Unnamed: 83',\n",
    "       'Unnamed: 84', 'Unnamed: 85', 'Unnamed: 86', 'Unnamed: 87'],axis=1,inplace=True)"
   ]
  },
  {
   "cell_type": "code",
   "execution_count": 5,
   "id": "0ff371cb",
   "metadata": {},
   "outputs": [],
   "source": [
    "data.drop(0,axis=0,inplace=True)"
   ]
  },
  {
   "cell_type": "code",
   "execution_count": 6,
   "id": "ba64786b",
   "metadata": {},
   "outputs": [
    {
     "data": {
      "text/html": [
       "<div>\n",
       "<style scoped>\n",
       "    .dataframe tbody tr th:only-of-type {\n",
       "        vertical-align: middle;\n",
       "    }\n",
       "\n",
       "    .dataframe tbody tr th {\n",
       "        vertical-align: top;\n",
       "    }\n",
       "\n",
       "    .dataframe thead th {\n",
       "        text-align: right;\n",
       "    }\n",
       "</style>\n",
       "<table border=\"1\" class=\"dataframe\">\n",
       "  <thead>\n",
       "    <tr style=\"text-align: right;\">\n",
       "      <th></th>\n",
       "      <th>Employee Code</th>\n",
       "      <th>Machine</th>\n",
       "      <th>Production</th>\n",
       "      <th>Order Operation No</th>\n",
       "      <th>Date</th>\n",
       "      <th>Time</th>\n",
       "      <th>Current</th>\n",
       "      <th>Humidity</th>\n",
       "      <th>Temperature</th>\n",
       "      <th>Flow</th>\n",
       "      <th>Job Temp</th>\n",
       "      <th>Voltage</th>\n",
       "      <th>Defect</th>\n",
       "      <th>Defects</th>\n",
       "    </tr>\n",
       "  </thead>\n",
       "  <tbody>\n",
       "    <tr>\n",
       "      <th>1</th>\n",
       "      <td>382617</td>\n",
       "      <td>TWLD23</td>\n",
       "      <td>E15002965</td>\n",
       "      <td>240</td>\n",
       "      <td>10-09-2022 00:00</td>\n",
       "      <td>7:32:28:527</td>\n",
       "      <td>1.13</td>\n",
       "      <td>74</td>\n",
       "      <td>23</td>\n",
       "      <td>0.01</td>\n",
       "      <td>29.3</td>\n",
       "      <td>15.2</td>\n",
       "      <td>No Defect</td>\n",
       "      <td>No Defect</td>\n",
       "    </tr>\n",
       "    <tr>\n",
       "      <th>2</th>\n",
       "      <td>382617</td>\n",
       "      <td>TWLD23</td>\n",
       "      <td>E15002965</td>\n",
       "      <td>240</td>\n",
       "      <td>10-09-2022 00:00</td>\n",
       "      <td>7:32:29:40</td>\n",
       "      <td>1.82</td>\n",
       "      <td>74</td>\n",
       "      <td>23</td>\n",
       "      <td>0</td>\n",
       "      <td>29.3</td>\n",
       "      <td>0</td>\n",
       "      <td>Defect</td>\n",
       "      <td>Defect</td>\n",
       "    </tr>\n",
       "    <tr>\n",
       "      <th>3</th>\n",
       "      <td>382617</td>\n",
       "      <td>TWLD23</td>\n",
       "      <td>E15002965</td>\n",
       "      <td>240</td>\n",
       "      <td>10-09-2022 00:00</td>\n",
       "      <td>7:32:29:677</td>\n",
       "      <td>2.91</td>\n",
       "      <td>74</td>\n",
       "      <td>23</td>\n",
       "      <td>0</td>\n",
       "      <td>29.3</td>\n",
       "      <td>0</td>\n",
       "      <td>No Defect</td>\n",
       "      <td>No Defect</td>\n",
       "    </tr>\n",
       "    <tr>\n",
       "      <th>4</th>\n",
       "      <td>382617</td>\n",
       "      <td>TWLD23</td>\n",
       "      <td>E15002965</td>\n",
       "      <td>240</td>\n",
       "      <td>10-09-2022 00:00</td>\n",
       "      <td>7:32:30:166</td>\n",
       "      <td>0.04</td>\n",
       "      <td>74</td>\n",
       "      <td>23</td>\n",
       "      <td>0</td>\n",
       "      <td>29.3</td>\n",
       "      <td>0</td>\n",
       "      <td>No Defect</td>\n",
       "      <td>No Defect</td>\n",
       "    </tr>\n",
       "    <tr>\n",
       "      <th>5</th>\n",
       "      <td>382617</td>\n",
       "      <td>TWLD23</td>\n",
       "      <td>E15002965</td>\n",
       "      <td>240</td>\n",
       "      <td>10-09-2022 00:00</td>\n",
       "      <td>7:32:30:696</td>\n",
       "      <td>2.51</td>\n",
       "      <td>74</td>\n",
       "      <td>23</td>\n",
       "      <td>0</td>\n",
       "      <td>27.8</td>\n",
       "      <td>0</td>\n",
       "      <td>No Defect</td>\n",
       "      <td>No Defect</td>\n",
       "    </tr>\n",
       "  </tbody>\n",
       "</table>\n",
       "</div>"
      ],
      "text/plain": [
       "  Employee Code Machine Production Order Operation No              Date  \\\n",
       "1        382617  TWLD23  E15002965                240  10-09-2022 00:00   \n",
       "2        382617  TWLD23  E15002965                240  10-09-2022 00:00   \n",
       "3        382617  TWLD23  E15002965                240  10-09-2022 00:00   \n",
       "4        382617  TWLD23  E15002965                240  10-09-2022 00:00   \n",
       "5        382617  TWLD23  E15002965                240  10-09-2022 00:00   \n",
       "\n",
       "          Time Current Humidity Temperature  Flow Job Temp Voltage     Defect  \\\n",
       "1  7:32:28:527    1.13       74          23  0.01     29.3    15.2  No Defect   \n",
       "2   7:32:29:40    1.82       74          23     0     29.3       0     Defect   \n",
       "3  7:32:29:677    2.91       74          23     0     29.3       0  No Defect   \n",
       "4  7:32:30:166    0.04       74          23     0     29.3       0  No Defect   \n",
       "5  7:32:30:696    2.51       74          23     0     27.8       0  No Defect   \n",
       "\n",
       "     Defects  \n",
       "1  No Defect  \n",
       "2     Defect  \n",
       "3  No Defect  \n",
       "4  No Defect  \n",
       "5  No Defect  "
      ]
     },
     "execution_count": 6,
     "metadata": {},
     "output_type": "execute_result"
    }
   ],
   "source": [
    "data.head()"
   ]
  },
  {
   "cell_type": "markdown",
   "id": "a91b115e",
   "metadata": {},
   "source": [
    "### *Converting Relevant Data Types to float*"
   ]
  },
  {
   "cell_type": "code",
   "execution_count": 7,
   "id": "9f0027ca",
   "metadata": {},
   "outputs": [
    {
     "data": {
      "text/plain": [
       "Employee Code         object\n",
       "Machine               object\n",
       "Production            object\n",
       "Order Operation No    object\n",
       "Date                  object\n",
       "Time                  object\n",
       "Current               object\n",
       "Humidity              object\n",
       "Temperature           object\n",
       "Flow                  object\n",
       "Job Temp              object\n",
       "Voltage               object\n",
       "Defect                object\n",
       "Defects               object\n",
       "dtype: object"
      ]
     },
     "execution_count": 7,
     "metadata": {},
     "output_type": "execute_result"
    }
   ],
   "source": [
    "data.dtypes"
   ]
  },
  {
   "cell_type": "code",
   "execution_count": 8,
   "id": "effe5ade",
   "metadata": {},
   "outputs": [],
   "source": [
    "data['Temperature'] = data['Temperature'].astype('float')\n",
    "data['Current'] = data['Current'].astype('float')\n",
    "data['Humidity'] = data['Humidity'].astype('float')\n",
    "data['Flow'] = data['Flow'].astype('float')\n",
    "data['Job Temp'] = data['Job Temp'].astype('float')\n",
    "data['Voltage'] = data['Voltage'].astype('float')"
   ]
  },
  {
   "cell_type": "code",
   "execution_count": 9,
   "id": "d56b3e26",
   "metadata": {},
   "outputs": [
    {
     "data": {
      "text/plain": [
       "Employee Code          object\n",
       "Machine                object\n",
       "Production             object\n",
       "Order Operation No     object\n",
       "Date                   object\n",
       "Time                   object\n",
       "Current               float64\n",
       "Humidity              float64\n",
       "Temperature           float64\n",
       "Flow                  float64\n",
       "Job Temp              float64\n",
       "Voltage               float64\n",
       "Defect                 object\n",
       "Defects                object\n",
       "dtype: object"
      ]
     },
     "execution_count": 9,
     "metadata": {},
     "output_type": "execute_result"
    }
   ],
   "source": [
    "data.dtypes"
   ]
  },
  {
   "cell_type": "markdown",
   "id": "f605ece2",
   "metadata": {},
   "source": [
    "### *Getting insight From Data and Manipulating it*"
   ]
  },
  {
   "cell_type": "code",
   "execution_count": 10,
   "id": "abaeee58",
   "metadata": {},
   "outputs": [
    {
     "data": {
      "text/html": [
       "<div>\n",
       "<style scoped>\n",
       "    .dataframe tbody tr th:only-of-type {\n",
       "        vertical-align: middle;\n",
       "    }\n",
       "\n",
       "    .dataframe tbody tr th {\n",
       "        vertical-align: top;\n",
       "    }\n",
       "\n",
       "    .dataframe thead th {\n",
       "        text-align: right;\n",
       "    }\n",
       "</style>\n",
       "<table border=\"1\" class=\"dataframe\">\n",
       "  <thead>\n",
       "    <tr style=\"text-align: right;\">\n",
       "      <th></th>\n",
       "      <th>Employee Code</th>\n",
       "      <th>Machine</th>\n",
       "      <th>Production</th>\n",
       "      <th>Order Operation No</th>\n",
       "      <th>Date</th>\n",
       "      <th>Time</th>\n",
       "      <th>Current</th>\n",
       "      <th>Humidity</th>\n",
       "      <th>Temperature</th>\n",
       "      <th>Flow</th>\n",
       "      <th>Job Temp</th>\n",
       "      <th>Voltage</th>\n",
       "      <th>Defect</th>\n",
       "      <th>Defects</th>\n",
       "    </tr>\n",
       "  </thead>\n",
       "  <tbody>\n",
       "    <tr>\n",
       "      <th>1</th>\n",
       "      <td>382617</td>\n",
       "      <td>TWLD23</td>\n",
       "      <td>E15002965</td>\n",
       "      <td>240</td>\n",
       "      <td>10-09-2022 00:00</td>\n",
       "      <td>7:32:28:527</td>\n",
       "      <td>1.13</td>\n",
       "      <td>74.0</td>\n",
       "      <td>23.0</td>\n",
       "      <td>0.01</td>\n",
       "      <td>29.3</td>\n",
       "      <td>15.2</td>\n",
       "      <td>No Defect</td>\n",
       "      <td>No Defect</td>\n",
       "    </tr>\n",
       "    <tr>\n",
       "      <th>2</th>\n",
       "      <td>382617</td>\n",
       "      <td>TWLD23</td>\n",
       "      <td>E15002965</td>\n",
       "      <td>240</td>\n",
       "      <td>10-09-2022 00:00</td>\n",
       "      <td>7:32:29:40</td>\n",
       "      <td>1.82</td>\n",
       "      <td>74.0</td>\n",
       "      <td>23.0</td>\n",
       "      <td>0.00</td>\n",
       "      <td>29.3</td>\n",
       "      <td>0.0</td>\n",
       "      <td>Defect</td>\n",
       "      <td>Defect</td>\n",
       "    </tr>\n",
       "    <tr>\n",
       "      <th>3</th>\n",
       "      <td>382617</td>\n",
       "      <td>TWLD23</td>\n",
       "      <td>E15002965</td>\n",
       "      <td>240</td>\n",
       "      <td>10-09-2022 00:00</td>\n",
       "      <td>7:32:29:677</td>\n",
       "      <td>2.91</td>\n",
       "      <td>74.0</td>\n",
       "      <td>23.0</td>\n",
       "      <td>0.00</td>\n",
       "      <td>29.3</td>\n",
       "      <td>0.0</td>\n",
       "      <td>No Defect</td>\n",
       "      <td>No Defect</td>\n",
       "    </tr>\n",
       "    <tr>\n",
       "      <th>4</th>\n",
       "      <td>382617</td>\n",
       "      <td>TWLD23</td>\n",
       "      <td>E15002965</td>\n",
       "      <td>240</td>\n",
       "      <td>10-09-2022 00:00</td>\n",
       "      <td>7:32:30:166</td>\n",
       "      <td>0.04</td>\n",
       "      <td>74.0</td>\n",
       "      <td>23.0</td>\n",
       "      <td>0.00</td>\n",
       "      <td>29.3</td>\n",
       "      <td>0.0</td>\n",
       "      <td>No Defect</td>\n",
       "      <td>No Defect</td>\n",
       "    </tr>\n",
       "    <tr>\n",
       "      <th>5</th>\n",
       "      <td>382617</td>\n",
       "      <td>TWLD23</td>\n",
       "      <td>E15002965</td>\n",
       "      <td>240</td>\n",
       "      <td>10-09-2022 00:00</td>\n",
       "      <td>7:32:30:696</td>\n",
       "      <td>2.51</td>\n",
       "      <td>74.0</td>\n",
       "      <td>23.0</td>\n",
       "      <td>0.00</td>\n",
       "      <td>27.8</td>\n",
       "      <td>0.0</td>\n",
       "      <td>No Defect</td>\n",
       "      <td>No Defect</td>\n",
       "    </tr>\n",
       "  </tbody>\n",
       "</table>\n",
       "</div>"
      ],
      "text/plain": [
       "  Employee Code Machine Production Order Operation No              Date  \\\n",
       "1        382617  TWLD23  E15002965                240  10-09-2022 00:00   \n",
       "2        382617  TWLD23  E15002965                240  10-09-2022 00:00   \n",
       "3        382617  TWLD23  E15002965                240  10-09-2022 00:00   \n",
       "4        382617  TWLD23  E15002965                240  10-09-2022 00:00   \n",
       "5        382617  TWLD23  E15002965                240  10-09-2022 00:00   \n",
       "\n",
       "          Time  Current  Humidity  Temperature  Flow  Job Temp  Voltage  \\\n",
       "1  7:32:28:527     1.13      74.0         23.0  0.01      29.3     15.2   \n",
       "2   7:32:29:40     1.82      74.0         23.0  0.00      29.3      0.0   \n",
       "3  7:32:29:677     2.91      74.0         23.0  0.00      29.3      0.0   \n",
       "4  7:32:30:166     0.04      74.0         23.0  0.00      29.3      0.0   \n",
       "5  7:32:30:696     2.51      74.0         23.0  0.00      27.8      0.0   \n",
       "\n",
       "      Defect    Defects  \n",
       "1  No Defect  No Defect  \n",
       "2     Defect     Defect  \n",
       "3  No Defect  No Defect  \n",
       "4  No Defect  No Defect  \n",
       "5  No Defect  No Defect  "
      ]
     },
     "execution_count": 10,
     "metadata": {},
     "output_type": "execute_result"
    }
   ],
   "source": [
    "data.head()"
   ]
  },
  {
   "cell_type": "code",
   "execution_count": 11,
   "id": "44d71690",
   "metadata": {},
   "outputs": [
    {
     "name": "stdout",
     "output_type": "stream",
     "text": [
      "['TWLD23']\n"
     ]
    }
   ],
   "source": [
    "print(data['Machine'].unique())"
   ]
  },
  {
   "cell_type": "code",
   "execution_count": 12,
   "id": "59a80a47",
   "metadata": {},
   "outputs": [],
   "source": [
    "# Here ,it is seen that same type of machine has been used so , no relevance of 'Machine' coloumn here\n",
    "# Hence we are dropping this particular coloumn\n",
    "data.drop(['Machine'] ,axis = 1 ,inplace = True)"
   ]
  },
  {
   "cell_type": "code",
   "execution_count": 13,
   "id": "0434714c",
   "metadata": {},
   "outputs": [],
   "source": [
    "# Production is also project under order \n",
    "# Hence this coloumn is also not required\n",
    "data.drop(['Production'] ,axis = 1 ,inplace = True)\n"
   ]
  },
  {
   "cell_type": "code",
   "execution_count": 14,
   "id": "600aeb12",
   "metadata": {},
   "outputs": [],
   "source": [
    "#\n",
    "data.drop(['Order Operation No'] ,axis = 1 ,inplace = True)\n"
   ]
  },
  {
   "cell_type": "code",
   "execution_count": 15,
   "id": "6a97b5b9",
   "metadata": {},
   "outputs": [],
   "source": [
    "data.drop(['Defect'] ,axis = 1 ,inplace = True)"
   ]
  },
  {
   "cell_type": "code",
   "execution_count": 16,
   "id": "3c40436d",
   "metadata": {},
   "outputs": [],
   "source": [
    "#\n",
    "data.drop(['Date','Time'] ,axis = 1 ,inplace = True)"
   ]
  },
  {
   "cell_type": "code",
   "execution_count": 17,
   "id": "953e470d",
   "metadata": {},
   "outputs": [
    {
     "data": {
      "text/html": [
       "<div>\n",
       "<style scoped>\n",
       "    .dataframe tbody tr th:only-of-type {\n",
       "        vertical-align: middle;\n",
       "    }\n",
       "\n",
       "    .dataframe tbody tr th {\n",
       "        vertical-align: top;\n",
       "    }\n",
       "\n",
       "    .dataframe thead th {\n",
       "        text-align: right;\n",
       "    }\n",
       "</style>\n",
       "<table border=\"1\" class=\"dataframe\">\n",
       "  <thead>\n",
       "    <tr style=\"text-align: right;\">\n",
       "      <th></th>\n",
       "      <th>Employee Code</th>\n",
       "      <th>Current</th>\n",
       "      <th>Humidity</th>\n",
       "      <th>Temperature</th>\n",
       "      <th>Flow</th>\n",
       "      <th>Job Temp</th>\n",
       "      <th>Voltage</th>\n",
       "      <th>Defects</th>\n",
       "    </tr>\n",
       "  </thead>\n",
       "  <tbody>\n",
       "    <tr>\n",
       "      <th>1</th>\n",
       "      <td>382617</td>\n",
       "      <td>1.13</td>\n",
       "      <td>74.0</td>\n",
       "      <td>23.0</td>\n",
       "      <td>0.01</td>\n",
       "      <td>29.3</td>\n",
       "      <td>15.2</td>\n",
       "      <td>No Defect</td>\n",
       "    </tr>\n",
       "    <tr>\n",
       "      <th>2</th>\n",
       "      <td>382617</td>\n",
       "      <td>1.82</td>\n",
       "      <td>74.0</td>\n",
       "      <td>23.0</td>\n",
       "      <td>0.00</td>\n",
       "      <td>29.3</td>\n",
       "      <td>0.0</td>\n",
       "      <td>Defect</td>\n",
       "    </tr>\n",
       "    <tr>\n",
       "      <th>3</th>\n",
       "      <td>382617</td>\n",
       "      <td>2.91</td>\n",
       "      <td>74.0</td>\n",
       "      <td>23.0</td>\n",
       "      <td>0.00</td>\n",
       "      <td>29.3</td>\n",
       "      <td>0.0</td>\n",
       "      <td>No Defect</td>\n",
       "    </tr>\n",
       "    <tr>\n",
       "      <th>4</th>\n",
       "      <td>382617</td>\n",
       "      <td>0.04</td>\n",
       "      <td>74.0</td>\n",
       "      <td>23.0</td>\n",
       "      <td>0.00</td>\n",
       "      <td>29.3</td>\n",
       "      <td>0.0</td>\n",
       "      <td>No Defect</td>\n",
       "    </tr>\n",
       "    <tr>\n",
       "      <th>5</th>\n",
       "      <td>382617</td>\n",
       "      <td>2.51</td>\n",
       "      <td>74.0</td>\n",
       "      <td>23.0</td>\n",
       "      <td>0.00</td>\n",
       "      <td>27.8</td>\n",
       "      <td>0.0</td>\n",
       "      <td>No Defect</td>\n",
       "    </tr>\n",
       "  </tbody>\n",
       "</table>\n",
       "</div>"
      ],
      "text/plain": [
       "  Employee Code  Current  Humidity  Temperature  Flow  Job Temp  Voltage  \\\n",
       "1        382617     1.13      74.0         23.0  0.01      29.3     15.2   \n",
       "2        382617     1.82      74.0         23.0  0.00      29.3      0.0   \n",
       "3        382617     2.91      74.0         23.0  0.00      29.3      0.0   \n",
       "4        382617     0.04      74.0         23.0  0.00      29.3      0.0   \n",
       "5        382617     2.51      74.0         23.0  0.00      27.8      0.0   \n",
       "\n",
       "     Defects  \n",
       "1  No Defect  \n",
       "2     Defect  \n",
       "3  No Defect  \n",
       "4  No Defect  \n",
       "5  No Defect  "
      ]
     },
     "execution_count": 17,
     "metadata": {},
     "output_type": "execute_result"
    }
   ],
   "source": [
    "data.head()"
   ]
  },
  {
   "cell_type": "code",
   "execution_count": 18,
   "id": "fd7255d3",
   "metadata": {},
   "outputs": [
    {
     "data": {
      "text/plain": [
       "No Defect    821781\n",
       "Defect         5753\n",
       "Name: Defects, dtype: int64"
      ]
     },
     "execution_count": 18,
     "metadata": {},
     "output_type": "execute_result"
    }
   ],
   "source": [
    "data['Defects'].value_counts()"
   ]
  },
  {
   "cell_type": "markdown",
   "id": "8fa66a48",
   "metadata": {},
   "source": [
    "# *LABEL ENCODING (Defects Coloumn)*"
   ]
  },
  {
   "cell_type": "code",
   "execution_count": 19,
   "id": "0891a69d",
   "metadata": {},
   "outputs": [
    {
     "data": {
      "text/plain": [
       "1    821781\n",
       "0      5753\n",
       "Name: Defects, dtype: int64"
      ]
     },
     "execution_count": 19,
     "metadata": {},
     "output_type": "execute_result"
    }
   ],
   "source": [
    "# Import label encoder\n",
    "from sklearn import preprocessing\n",
    "\n",
    "# label_encoder object knows how to understand word labels.\n",
    "label_encoder = preprocessing.LabelEncoder()\n",
    "\n",
    "# Encode labels in column 'species'.\n",
    "data['Defects']= label_encoder.fit_transform(data['Defects'])\n",
    "\n",
    "data['Defects'].value_counts()\n",
    "\n",
    "## No Defect == \"1\" && Defect == \"0\""
   ]
  },
  {
   "cell_type": "markdown",
   "id": "931b438a",
   "metadata": {},
   "source": [
    "# *EMPLOYEE ANALYSIS*"
   ]
  },
  {
   "cell_type": "code",
   "execution_count": 20,
   "id": "282e1f45",
   "metadata": {},
   "outputs": [],
   "source": [
    "data['Employee Code'] = data['Employee Code'].astype('str')"
   ]
  },
  {
   "cell_type": "code",
   "execution_count": 21,
   "id": "c0086314",
   "metadata": {
    "scrolled": true
   },
   "outputs": [
    {
     "data": {
      "image/png": "[encoded data removed]",
      "text/plain": [
       "<Figure size 2160x1440 with 1 Axes>"
      ]
     },
     "metadata": {},
     "output_type": "display_data"
    }
   ],
   "source": [
    "sns.set(rc = {'figure.figsize' : (30,20)})\n",
    "ax = sns.countplot(data=data, x=\"Employee Code\", hue=\"Defects\")\n",
    "for p in ax.patches:\n",
    "        ax.annotate('%{:.1f}'.format(p.get_height()), (p.get_x()+0.1, p.get_height()+50))"
   ]
  },
  {
   "attachments": {},
   "cell_type": "markdown",
   "id": "b1145a24",
   "metadata": {},
   "source": [
    "Employee ID \t      Non Defect\tDefect\t  %Defects\n",
    "382617\t                36400\t    365\t       0.992792058\n",
    "391342\t                255031\t    1853\t   0.721337257\n",
    "97346\t                116565\t     861       0.733227735\n",
    "0\t                     66740\t      80\t   0.119724633\n",
    "394965\t                 173466\t    1519\t   0.868074406\n",
    "394365\t                 23740\t     182\t   0.760805953\n",
    "383138\t                 27239\t      56\t   0.205165781\n",
    "394269\t                 114008\t     813\t   0.70805863\n",
    "\n",
    "The performance of employee having employee ID:0 is best among all 9 employee.\n",
    "Employee ID: 383138 comes at 2nd position.\n",
    "Employee ID: 382617 is has produced the highest percentage of defected products."
   ]
  },
  {
   "cell_type": "code",
   "execution_count": 22,
   "id": "3ce1e993",
   "metadata": {
    "scrolled": false
   },
   "outputs": [],
   "source": [
    "data.drop(['Employee Code'] ,axis = 1 ,inplace = True)"
   ]
  },
  {
   "cell_type": "markdown",
   "id": "669f018b",
   "metadata": {},
   "source": [
    "# *HANDLING MISSING VALUES*"
   ]
  },
  {
   "cell_type": "code",
   "execution_count": 23,
   "id": "c8cfd2fe",
   "metadata": {},
   "outputs": [
    {
     "data": {
      "text/plain": [
       "Current        3\n",
       "Humidity       0\n",
       "Temperature    0\n",
       "Flow           0\n",
       "Job Temp       0\n",
       "Voltage        0\n",
       "Defects        0\n",
       "dtype: int64"
      ]
     },
     "execution_count": 23,
     "metadata": {},
     "output_type": "execute_result"
    }
   ],
   "source": [
    "data.isnull().sum()"
   ]
  },
  {
   "cell_type": "code",
   "execution_count": 24,
   "id": "b8bdcc42",
   "metadata": {},
   "outputs": [],
   "source": [
    "# Replacing missing Current value with its mean\n",
    "data['Current'].fillna(int(data['Current'].mean()), inplace=True)"
   ]
  },
  {
   "cell_type": "code",
   "execution_count": 25,
   "id": "f1b9280a",
   "metadata": {
    "scrolled": true
   },
   "outputs": [
    {
     "data": {
      "text/plain": [
       "Current        0\n",
       "Humidity       0\n",
       "Temperature    0\n",
       "Flow           0\n",
       "Job Temp       0\n",
       "Voltage        0\n",
       "Defects        0\n",
       "dtype: int64"
      ]
     },
     "execution_count": 25,
     "metadata": {},
     "output_type": "execute_result"
    }
   ],
   "source": [
    "data.isnull().sum()"
   ]
  },
  {
   "cell_type": "code",
   "execution_count": 26,
   "id": "734cc966",
   "metadata": {},
   "outputs": [
    {
     "data": {
      "text/html": [
       "<div>\n",
       "<style scoped>\n",
       "    .dataframe tbody tr th:only-of-type {\n",
       "        vertical-align: middle;\n",
       "    }\n",
       "\n",
       "    .dataframe tbody tr th {\n",
       "        vertical-align: top;\n",
       "    }\n",
       "\n",
       "    .dataframe thead th {\n",
       "        text-align: right;\n",
       "    }\n",
       "</style>\n",
       "<table border=\"1\" class=\"dataframe\">\n",
       "  <thead>\n",
       "    <tr style=\"text-align: right;\">\n",
       "      <th></th>\n",
       "      <th>Current</th>\n",
       "      <th>Humidity</th>\n",
       "      <th>Temperature</th>\n",
       "      <th>Flow</th>\n",
       "      <th>Job Temp</th>\n",
       "      <th>Voltage</th>\n",
       "      <th>Defects</th>\n",
       "    </tr>\n",
       "  </thead>\n",
       "  <tbody>\n",
       "    <tr>\n",
       "      <th>count</th>\n",
       "      <td>827534.000000</td>\n",
       "      <td>827534.000000</td>\n",
       "      <td>827534.000000</td>\n",
       "      <td>827534.000000</td>\n",
       "      <td>827534.000000</td>\n",
       "      <td>827534.000000</td>\n",
       "      <td>827534.000000</td>\n",
       "    </tr>\n",
       "    <tr>\n",
       "      <th>mean</th>\n",
       "      <td>8.673908</td>\n",
       "      <td>74.956373</td>\n",
       "      <td>23.884997</td>\n",
       "      <td>1.763230</td>\n",
       "      <td>136.406572</td>\n",
       "      <td>2.846528</td>\n",
       "      <td>0.993048</td>\n",
       "    </tr>\n",
       "    <tr>\n",
       "      <th>std</th>\n",
       "      <td>13.219328</td>\n",
       "      <td>10.374707</td>\n",
       "      <td>3.491204</td>\n",
       "      <td>1.741196</td>\n",
       "      <td>558.122529</td>\n",
       "      <td>4.616725</td>\n",
       "      <td>0.083088</td>\n",
       "    </tr>\n",
       "    <tr>\n",
       "      <th>min</th>\n",
       "      <td>-2.000000</td>\n",
       "      <td>0.000000</td>\n",
       "      <td>-13.000000</td>\n",
       "      <td>0.000000</td>\n",
       "      <td>0.000000</td>\n",
       "      <td>-2.578000</td>\n",
       "      <td>0.000000</td>\n",
       "    </tr>\n",
       "    <tr>\n",
       "      <th>25%</th>\n",
       "      <td>0.260000</td>\n",
       "      <td>72.000000</td>\n",
       "      <td>24.000000</td>\n",
       "      <td>0.000000</td>\n",
       "      <td>29.800000</td>\n",
       "      <td>0.000000</td>\n",
       "      <td>1.000000</td>\n",
       "    </tr>\n",
       "    <tr>\n",
       "      <th>50%</th>\n",
       "      <td>2.250000</td>\n",
       "      <td>76.000000</td>\n",
       "      <td>24.000000</td>\n",
       "      <td>1.600000</td>\n",
       "      <td>31.300000</td>\n",
       "      <td>0.000000</td>\n",
       "      <td>1.000000</td>\n",
       "    </tr>\n",
       "    <tr>\n",
       "      <th>75%</th>\n",
       "      <td>13.677500</td>\n",
       "      <td>79.000000</td>\n",
       "      <td>25.000000</td>\n",
       "      <td>3.140000</td>\n",
       "      <td>35.600000</td>\n",
       "      <td>8.660000</td>\n",
       "      <td>1.000000</td>\n",
       "    </tr>\n",
       "    <tr>\n",
       "      <th>max</th>\n",
       "      <td>163.000000</td>\n",
       "      <td>2444.000000</td>\n",
       "      <td>828.000000</td>\n",
       "      <td>14.470000</td>\n",
       "      <td>3276.700000</td>\n",
       "      <td>24.499000</td>\n",
       "      <td>1.000000</td>\n",
       "    </tr>\n",
       "  </tbody>\n",
       "</table>\n",
       "</div>"
      ],
      "text/plain": [
       "             Current       Humidity    Temperature           Flow  \\\n",
       "count  827534.000000  827534.000000  827534.000000  827534.000000   \n",
       "mean        8.673908      74.956373      23.884997       1.763230   \n",
       "std        13.219328      10.374707       3.491204       1.741196   \n",
       "min        -2.000000       0.000000     -13.000000       0.000000   \n",
       "25%         0.260000      72.000000      24.000000       0.000000   \n",
       "50%         2.250000      76.000000      24.000000       1.600000   \n",
       "75%        13.677500      79.000000      25.000000       3.140000   \n",
       "max       163.000000    2444.000000     828.000000      14.470000   \n",
       "\n",
       "            Job Temp        Voltage        Defects  \n",
       "count  827534.000000  827534.000000  827534.000000  \n",
       "mean      136.406572       2.846528       0.993048  \n",
       "std       558.122529       4.616725       0.083088  \n",
       "min         0.000000      -2.578000       0.000000  \n",
       "25%        29.800000       0.000000       1.000000  \n",
       "50%        31.300000       0.000000       1.000000  \n",
       "75%        35.600000       8.660000       1.000000  \n",
       "max      3276.700000      24.499000       1.000000  "
      ]
     },
     "execution_count": 26,
     "metadata": {},
     "output_type": "execute_result"
    }
   ],
   "source": [
    "# stastical analysis of every coloumn\n",
    "data.describe()"
   ]
  },
  {
   "cell_type": "markdown",
   "id": "8a09fc1a",
   "metadata": {},
   "source": [
    "## *PEARSON'S CORRELATION*"
   ]
  },
  {
   "cell_type": "code",
   "execution_count": 27,
   "id": "110e3236",
   "metadata": {},
   "outputs": [
    {
     "data": {
      "text/html": [
       "<div>\n",
       "<style scoped>\n",
       "    .dataframe tbody tr th:only-of-type {\n",
       "        vertical-align: middle;\n",
       "    }\n",
       "\n",
       "    .dataframe tbody tr th {\n",
       "        vertical-align: top;\n",
       "    }\n",
       "\n",
       "    .dataframe thead th {\n",
       "        text-align: right;\n",
       "    }\n",
       "</style>\n",
       "<table border=\"1\" class=\"dataframe\">\n",
       "  <thead>\n",
       "    <tr style=\"text-align: right;\">\n",
       "      <th></th>\n",
       "      <th>Current</th>\n",
       "      <th>Humidity</th>\n",
       "      <th>Temperature</th>\n",
       "      <th>Flow</th>\n",
       "      <th>Job Temp</th>\n",
       "      <th>Voltage</th>\n",
       "      <th>Defects</th>\n",
       "    </tr>\n",
       "  </thead>\n",
       "  <tbody>\n",
       "    <tr>\n",
       "      <th>Current</th>\n",
       "      <td>1.000000</td>\n",
       "      <td>-0.011689</td>\n",
       "      <td>-0.009614</td>\n",
       "      <td>0.089914</td>\n",
       "      <td>0.017546</td>\n",
       "      <td>0.705117</td>\n",
       "      <td>-0.076783</td>\n",
       "    </tr>\n",
       "    <tr>\n",
       "      <th>Humidity</th>\n",
       "      <td>-0.011689</td>\n",
       "      <td>1.000000</td>\n",
       "      <td>0.707087</td>\n",
       "      <td>-0.029554</td>\n",
       "      <td>-0.074149</td>\n",
       "      <td>-0.074754</td>\n",
       "      <td>0.011405</td>\n",
       "    </tr>\n",
       "    <tr>\n",
       "      <th>Temperature</th>\n",
       "      <td>-0.009614</td>\n",
       "      <td>0.707087</td>\n",
       "      <td>1.000000</td>\n",
       "      <td>-0.005525</td>\n",
       "      <td>-0.035515</td>\n",
       "      <td>-0.032865</td>\n",
       "      <td>0.003984</td>\n",
       "    </tr>\n",
       "    <tr>\n",
       "      <th>Flow</th>\n",
       "      <td>0.089914</td>\n",
       "      <td>-0.029554</td>\n",
       "      <td>-0.005525</td>\n",
       "      <td>1.000000</td>\n",
       "      <td>0.138386</td>\n",
       "      <td>0.137254</td>\n",
       "      <td>-0.001589</td>\n",
       "    </tr>\n",
       "    <tr>\n",
       "      <th>Job Temp</th>\n",
       "      <td>0.017546</td>\n",
       "      <td>-0.074149</td>\n",
       "      <td>-0.035515</td>\n",
       "      <td>0.138386</td>\n",
       "      <td>1.000000</td>\n",
       "      <td>0.054911</td>\n",
       "      <td>-0.016455</td>\n",
       "    </tr>\n",
       "    <tr>\n",
       "      <th>Voltage</th>\n",
       "      <td>0.705117</td>\n",
       "      <td>-0.074754</td>\n",
       "      <td>-0.032865</td>\n",
       "      <td>0.137254</td>\n",
       "      <td>0.054911</td>\n",
       "      <td>1.000000</td>\n",
       "      <td>-0.065779</td>\n",
       "    </tr>\n",
       "    <tr>\n",
       "      <th>Defects</th>\n",
       "      <td>-0.076783</td>\n",
       "      <td>0.011405</td>\n",
       "      <td>0.003984</td>\n",
       "      <td>-0.001589</td>\n",
       "      <td>-0.016455</td>\n",
       "      <td>-0.065779</td>\n",
       "      <td>1.000000</td>\n",
       "    </tr>\n",
       "  </tbody>\n",
       "</table>\n",
       "</div>"
      ],
      "text/plain": [
       "              Current  Humidity  Temperature      Flow  Job Temp   Voltage  \\\n",
       "Current      1.000000 -0.011689    -0.009614  0.089914  0.017546  0.705117   \n",
       "Humidity    -0.011689  1.000000     0.707087 -0.029554 -0.074149 -0.074754   \n",
       "Temperature -0.009614  0.707087     1.000000 -0.005525 -0.035515 -0.032865   \n",
       "Flow         0.089914 -0.029554    -0.005525  1.000000  0.138386  0.137254   \n",
       "Job Temp     0.017546 -0.074149    -0.035515  0.138386  1.000000  0.054911   \n",
       "Voltage      0.705117 -0.074754    -0.032865  0.137254  0.054911  1.000000   \n",
       "Defects     -0.076783  0.011405     0.003984 -0.001589 -0.016455 -0.065779   \n",
       "\n",
       "              Defects  \n",
       "Current     -0.076783  \n",
       "Humidity     0.011405  \n",
       "Temperature  0.003984  \n",
       "Flow        -0.001589  \n",
       "Job Temp    -0.016455  \n",
       "Voltage     -0.065779  \n",
       "Defects      1.000000  "
      ]
     },
     "execution_count": 27,
     "metadata": {},
     "output_type": "execute_result"
    }
   ],
   "source": [
    "x = data.corr()\n",
    "x"
   ]
  },
  {
   "cell_type": "code",
   "execution_count": 28,
   "id": "bd1a831e",
   "metadata": {},
   "outputs": [
    {
     "data": {
      "image/png": "[encoded data removed]",
      "text/plain": [
       "<Figure size 1080x720 with 2 Axes>"
      ]
     },
     "metadata": {},
     "output_type": "display_data"
    }
   ],
   "source": [
    "sns.set(rc = {'figure.figsize' : (15,10)})\n",
    "dataplot = sns.heatmap(x,cmap =\"Blues\", annot=True)"
   ]
  },
  {
   "cell_type": "markdown",
   "id": "8834d358",
   "metadata": {},
   "source": [
    "#### *NOTE: It can be seen from above heatmap that temperature and humidity are highly correlated and same goes for current and voltage*"
   ]
  },
  {
   "cell_type": "markdown",
   "id": "77e9ae80",
   "metadata": {},
   "source": [
    "## *KENDALL CORRELATION*"
   ]
  },
  {
   "cell_type": "code",
   "execution_count": 29,
   "id": "891fb7ea",
   "metadata": {},
   "outputs": [],
   "source": [
    "from scipy.stats import kendalltau"
   ]
  },
  {
   "cell_type": "code",
   "execution_count": 30,
   "id": "bc19ece1",
   "metadata": {},
   "outputs": [
    {
     "name": "stderr",
     "output_type": "stream",
     "text": [
      "C:\\Users\\Kumar Aman\\anaconda3\\lib\\site-packages\\scipy\\stats\\stats.py:4812: RuntimeWarning: overflow encountered in longlong_scalars\n",
      "  (2 * xtie * ytie) / m + x0 * y0 / (9 * m * (size - 2)))\n"
     ]
    },
    {
     "data": {
      "text/html": [
       "<div>\n",
       "<style scoped>\n",
       "    .dataframe tbody tr th:only-of-type {\n",
       "        vertical-align: middle;\n",
       "    }\n",
       "\n",
       "    .dataframe tbody tr th {\n",
       "        vertical-align: top;\n",
       "    }\n",
       "\n",
       "    .dataframe thead th {\n",
       "        text-align: right;\n",
       "    }\n",
       "</style>\n",
       "<table border=\"1\" class=\"dataframe\">\n",
       "  <thead>\n",
       "    <tr style=\"text-align: right;\">\n",
       "      <th></th>\n",
       "      <th>Current</th>\n",
       "      <th>Humidity</th>\n",
       "      <th>Temperature</th>\n",
       "      <th>Flow</th>\n",
       "      <th>Job Temp</th>\n",
       "      <th>Voltage</th>\n",
       "      <th>Defects</th>\n",
       "    </tr>\n",
       "  </thead>\n",
       "  <tbody>\n",
       "    <tr>\n",
       "      <th>Current</th>\n",
       "      <td>1.000000</td>\n",
       "      <td>0.072545</td>\n",
       "      <td>0.034467</td>\n",
       "      <td>0.028312</td>\n",
       "      <td>-0.009318</td>\n",
       "      <td>0.488805</td>\n",
       "      <td>-0.055685</td>\n",
       "    </tr>\n",
       "    <tr>\n",
       "      <th>Humidity</th>\n",
       "      <td>0.072545</td>\n",
       "      <td>1.000000</td>\n",
       "      <td>0.100859</td>\n",
       "      <td>-0.065219</td>\n",
       "      <td>-0.213371</td>\n",
       "      <td>-0.056530</td>\n",
       "      <td>0.011137</td>\n",
       "    </tr>\n",
       "    <tr>\n",
       "      <th>Temperature</th>\n",
       "      <td>0.034467</td>\n",
       "      <td>0.100859</td>\n",
       "      <td>1.000000</td>\n",
       "      <td>0.036138</td>\n",
       "      <td>0.189598</td>\n",
       "      <td>0.009569</td>\n",
       "      <td>0.002884</td>\n",
       "    </tr>\n",
       "    <tr>\n",
       "      <th>Flow</th>\n",
       "      <td>0.028312</td>\n",
       "      <td>-0.065219</td>\n",
       "      <td>0.036138</td>\n",
       "      <td>1.000000</td>\n",
       "      <td>0.095686</td>\n",
       "      <td>0.113371</td>\n",
       "      <td>-0.002087</td>\n",
       "    </tr>\n",
       "    <tr>\n",
       "      <th>Job Temp</th>\n",
       "      <td>-0.009318</td>\n",
       "      <td>-0.213371</td>\n",
       "      <td>0.189598</td>\n",
       "      <td>0.095686</td>\n",
       "      <td>1.000000</td>\n",
       "      <td>0.107673</td>\n",
       "      <td>-0.021170</td>\n",
       "    </tr>\n",
       "    <tr>\n",
       "      <th>Voltage</th>\n",
       "      <td>0.488805</td>\n",
       "      <td>-0.056530</td>\n",
       "      <td>0.009569</td>\n",
       "      <td>0.113371</td>\n",
       "      <td>0.107673</td>\n",
       "      <td>1.000000</td>\n",
       "      <td>-0.073193</td>\n",
       "    </tr>\n",
       "    <tr>\n",
       "      <th>Defects</th>\n",
       "      <td>-0.055685</td>\n",
       "      <td>0.011137</td>\n",
       "      <td>0.002884</td>\n",
       "      <td>-0.002087</td>\n",
       "      <td>-0.021170</td>\n",
       "      <td>-0.073193</td>\n",
       "      <td>1.000000</td>\n",
       "    </tr>\n",
       "  </tbody>\n",
       "</table>\n",
       "</div>"
      ],
      "text/plain": [
       "              Current  Humidity  Temperature      Flow  Job Temp   Voltage  \\\n",
       "Current      1.000000  0.072545     0.034467  0.028312 -0.009318  0.488805   \n",
       "Humidity     0.072545  1.000000     0.100859 -0.065219 -0.213371 -0.056530   \n",
       "Temperature  0.034467  0.100859     1.000000  0.036138  0.189598  0.009569   \n",
       "Flow         0.028312 -0.065219     0.036138  1.000000  0.095686  0.113371   \n",
       "Job Temp    -0.009318 -0.213371     0.189598  0.095686  1.000000  0.107673   \n",
       "Voltage      0.488805 -0.056530     0.009569  0.113371  0.107673  1.000000   \n",
       "Defects     -0.055685  0.011137     0.002884 -0.002087 -0.021170 -0.073193   \n",
       "\n",
       "              Defects  \n",
       "Current     -0.055685  \n",
       "Humidity     0.011137  \n",
       "Temperature  0.002884  \n",
       "Flow        -0.002087  \n",
       "Job Temp    -0.021170  \n",
       "Voltage     -0.073193  \n",
       "Defects      1.000000  "
      ]
     },
     "execution_count": 30,
     "metadata": {},
     "output_type": "execute_result"
    }
   ],
   "source": [
    "y = data.corr(method='kendall')\n",
    "y"
   ]
  },
  {
   "cell_type": "code",
   "execution_count": 31,
   "id": "7d909260",
   "metadata": {},
   "outputs": [
    {
     "data": {
      "image/png": "[encoded data removed]",
      "text/plain": [
       "<Figure size 1080x720 with 2 Axes>"
      ]
     },
     "metadata": {},
     "output_type": "display_data"
    }
   ],
   "source": [
    "sns.set(rc = {'figure.figsize' : (15,10)})\n",
    "dataplot = sns.heatmap(y,cmap =\"Blues\", annot=True)"
   ]
  },
  {
   "cell_type": "markdown",
   "id": "6979894a",
   "metadata": {},
   "source": [
    "### *Temperature and Defects*"
   ]
  },
  {
   "cell_type": "code",
   "execution_count": 32,
   "id": "605ad792",
   "metadata": {},
   "outputs": [
    {
     "name": "stdout",
     "output_type": "stream",
     "text": [
      "Kendall Rank correlation:0.00288\n",
      "P VALUE: 0.00427\n"
     ]
    },
    {
     "name": "stderr",
     "output_type": "stream",
     "text": [
      "C:\\Users\\Kumar Aman\\anaconda3\\lib\\site-packages\\scipy\\stats\\stats.py:4812: RuntimeWarning: overflow encountered in longlong_scalars\n",
      "  (2 * xtie * ytie) / m + x0 * y0 / (9 * m * (size - 2)))\n"
     ]
    }
   ],
   "source": [
    "tau, p_value = stats.kendalltau(data['Temperature'], data['Defects'])\n",
    "print(f\"Kendall Rank correlation:%.5f\" %tau)\n",
    "print(f\"P VALUE: %.5f\" %p_value)"
   ]
  },
  {
   "cell_type": "markdown",
   "id": "fa77dd73",
   "metadata": {},
   "source": [
    "### *Current and Defects*"
   ]
  },
  {
   "cell_type": "code",
   "execution_count": 33,
   "id": "259c63bb",
   "metadata": {},
   "outputs": [
    {
     "name": "stdout",
     "output_type": "stream",
     "text": [
      "Kendall Rank correlation:-0.05569\n",
      "P VALUE: 0.00000\n"
     ]
    }
   ],
   "source": [
    "tau, p_value = stats.kendalltau(data['Current'], data['Defects'])\n",
    "print(f\"Kendall Rank correlation:%.5f\" %tau)\n",
    "print(f\"P VALUE: %.5f\" %p_value)"
   ]
  },
  {
   "cell_type": "markdown",
   "id": "0a60de3b",
   "metadata": {},
   "source": [
    "### *Humidity and Defects*"
   ]
  },
  {
   "cell_type": "code",
   "execution_count": 34,
   "id": "13d0914b",
   "metadata": {},
   "outputs": [
    {
     "name": "stdout",
     "output_type": "stream",
     "text": [
      "Kendall Rank correlation:0.01114\n",
      "P VALUE: 0.00000\n"
     ]
    }
   ],
   "source": [
    "tau, p_value = stats.kendalltau(data['Humidity'], data['Defects'])\n",
    "print(f\"Kendall Rank correlation:%.5f\" %tau)\n",
    "print(f\"P VALUE: %.5f\" %p_value)"
   ]
  },
  {
   "cell_type": "markdown",
   "id": "65939f55",
   "metadata": {},
   "source": [
    "### *Flow and Defects*"
   ]
  },
  {
   "cell_type": "code",
   "execution_count": 35,
   "id": "9437957c",
   "metadata": {},
   "outputs": [
    {
     "name": "stdout",
     "output_type": "stream",
     "text": [
      "Kendall Rank correlation:-0.00209\n",
      "P VALUE: 0.02500\n"
     ]
    }
   ],
   "source": [
    "tau, p_value = stats.kendalltau(data['Flow'], data['Defects'])\n",
    "print(f\"Kendall Rank correlation:%.5f\" %tau)\n",
    "print(f\"P VALUE: %.5f\" %p_value)"
   ]
  },
  {
   "cell_type": "markdown",
   "id": "3bc0fd09",
   "metadata": {},
   "source": [
    "### *Job Temp and Defects*"
   ]
  },
  {
   "cell_type": "code",
   "execution_count": 36,
   "id": "af38e645",
   "metadata": {},
   "outputs": [
    {
     "name": "stdout",
     "output_type": "stream",
     "text": [
      "Kendall Rank correlation:-0.02117\n",
      "P VALUE: 0.00000\n"
     ]
    }
   ],
   "source": [
    "tau, p_value = stats.kendalltau(data['Job Temp'], data['Defects'])\n",
    "print(f\"Kendall Rank correlation:%.5f\" %tau)\n",
    "print(f\"P VALUE: %.5f\" %p_value)"
   ]
  },
  {
   "cell_type": "markdown",
   "id": "7de0a388",
   "metadata": {},
   "source": [
    "### *Voltage and Defects*"
   ]
  },
  {
   "cell_type": "code",
   "execution_count": 37,
   "id": "1433c6d6",
   "metadata": {},
   "outputs": [
    {
     "name": "stdout",
     "output_type": "stream",
     "text": [
      "Kendall Rank correlation:-0.07319\n",
      "P VALUE: 0.00000\n"
     ]
    }
   ],
   "source": [
    "tau, p_value = stats.kendalltau(data['Voltage'], data['Defects'])\n",
    "print(f\"Kendall Rank correlation:%.5f\" %tau)\n",
    "print(f\"P VALUE: %.5f\" %p_value)"
   ]
  },
  {
   "cell_type": "markdown",
   "id": "f1bf492b",
   "metadata": {},
   "source": []
  },
  {
   "cell_type": "markdown",
   "id": "c3c656fd",
   "metadata": {},
   "source": [
    "## *BOX-PLOTS AND OUTLIERS ANALYSIS*"
   ]
  },
  {
   "cell_type": "code",
   "execution_count": 38,
   "id": "a4a1a421",
   "metadata": {},
   "outputs": [
    {
     "data": {
      "image/png": "[encoded data removed]",
      "text/plain": [
       "<Figure size 2880x2880 with 6 Axes>"
      ]
     },
     "metadata": {},
     "output_type": "display_data"
    }
   ],
   "source": [
    "plt.figure(figsize=(40,40))\n",
    "plt.subplots_adjust(hspace=1)\n",
    "i=1\n",
    "for col_name in data.drop(columns=[\"Defects\"],axis=1).columns:\n",
    "    plt.subplot(5,10, i)\n",
    "    sns.boxplot(data=data, x='Defects', y=col_name)\n",
    "    i+=1"
   ]
  },
  {
   "cell_type": "code",
   "execution_count": 39,
   "id": "def96574",
   "metadata": {},
   "outputs": [
    {
     "data": {
      "text/plain": [
       "count    827534.000000\n",
       "mean          8.673908\n",
       "std          13.219328\n",
       "min          -2.000000\n",
       "25%           0.260000\n",
       "50%           2.250000\n",
       "75%          13.677500\n",
       "max         163.000000\n",
       "Name: Current, dtype: float64"
      ]
     },
     "execution_count": 39,
     "metadata": {},
     "output_type": "execute_result"
    }
   ],
   "source": [
    "# we are visualizing Outliers in 'Current' , 'Humidity' ,'Temperature','Flow','Job Temp','Voltage'\n",
    "data.Current.describe()"
   ]
  },
  {
   "cell_type": "code",
   "execution_count": 40,
   "id": "6f4faeb1",
   "metadata": {},
   "outputs": [],
   "source": [
    " first_quartile_C = data[\"Current\"].quantile(.99)"
   ]
  },
  {
   "cell_type": "code",
   "execution_count": 41,
   "id": "a77308aa",
   "metadata": {},
   "outputs": [
    {
     "data": {
      "text/plain": [
       "50.48"
      ]
     },
     "execution_count": 41,
     "metadata": {},
     "output_type": "execute_result"
    }
   ],
   "source": [
    " first_quartile_C"
   ]
  },
  {
   "cell_type": "code",
   "execution_count": 42,
   "id": "9cb25d5a",
   "metadata": {},
   "outputs": [],
   "source": [
    "first_quartile_H = data[\"Humidity\"].quantile(.99)"
   ]
  },
  {
   "cell_type": "code",
   "execution_count": 43,
   "id": "589c1cac",
   "metadata": {},
   "outputs": [
    {
     "data": {
      "text/plain": [
       "86.0"
      ]
     },
     "execution_count": 43,
     "metadata": {},
     "output_type": "execute_result"
    }
   ],
   "source": [
    " first_quartile_H"
   ]
  },
  {
   "cell_type": "code",
   "execution_count": 44,
   "id": "9c6c079f",
   "metadata": {},
   "outputs": [],
   "source": [
    "first_quartile_T = data[\"Temperature\"].quantile(.99)"
   ]
  },
  {
   "cell_type": "code",
   "execution_count": 45,
   "id": "81384de3",
   "metadata": {},
   "outputs": [
    {
     "data": {
      "text/plain": [
       "26.0"
      ]
     },
     "execution_count": 45,
     "metadata": {},
     "output_type": "execute_result"
    }
   ],
   "source": [
    "first_quartile_T"
   ]
  },
  {
   "cell_type": "code",
   "execution_count": 46,
   "id": "c84f645a",
   "metadata": {},
   "outputs": [],
   "source": [
    "first_quartile_V = data[\"Voltage\"].quantile(.99)"
   ]
  },
  {
   "cell_type": "code",
   "execution_count": 47,
   "id": "79cfc8cc",
   "metadata": {},
   "outputs": [
    {
     "data": {
      "text/plain": [
       "14.001340000000084"
      ]
     },
     "execution_count": 47,
     "metadata": {},
     "output_type": "execute_result"
    }
   ],
   "source": [
    "first_quartile_V"
   ]
  },
  {
   "cell_type": "code",
   "execution_count": 48,
   "id": "e0230abf",
   "metadata": {},
   "outputs": [],
   "source": [
    "first_quartile_JT = data[\"Job Temp\"].quantile(.98)"
   ]
  },
  {
   "cell_type": "code",
   "execution_count": 49,
   "id": "0d68f370",
   "metadata": {},
   "outputs": [
    {
     "data": {
      "text/plain": [
       "3274.3"
      ]
     },
     "execution_count": 49,
     "metadata": {},
     "output_type": "execute_result"
    }
   ],
   "source": [
    "first_quartile_JT"
   ]
  },
  {
   "cell_type": "code",
   "execution_count": 50,
   "id": "553a571b",
   "metadata": {},
   "outputs": [],
   "source": [
    "first_quartile_F = data[\"Flow\"].quantile(.99)"
   ]
  },
  {
   "cell_type": "code",
   "execution_count": 51,
   "id": "46f9dd89",
   "metadata": {},
   "outputs": [
    {
     "data": {
      "text/plain": [
       "6.44"
      ]
     },
     "execution_count": 51,
     "metadata": {},
     "output_type": "execute_result"
    }
   ],
   "source": [
    "first_quartile_F"
   ]
  },
  {
   "cell_type": "code",
   "execution_count": 52,
   "id": "f506fc57",
   "metadata": {},
   "outputs": [
    {
     "data": {
      "text/plain": [
       "1    821781\n",
       "0      5753\n",
       "Name: Defects, dtype: int64"
      ]
     },
     "execution_count": 52,
     "metadata": {},
     "output_type": "execute_result"
    }
   ],
   "source": [
    "data[\"Defects\"].value_counts()"
   ]
  },
  {
   "cell_type": "code",
   "execution_count": null,
   "id": "ae00d63d",
   "metadata": {},
   "outputs": [],
   "source": []
  },
  {
   "cell_type": "code",
   "execution_count": 53,
   "id": "0ddb7a7f",
   "metadata": {},
   "outputs": [
    {
     "data": {
      "image/png": "[encoded data removed]",
      "text/plain": [
       "<Figure size 2160x1440 with 1 Axes>"
      ]
     },
     "metadata": {},
     "output_type": "display_data"
    }
   ],
   "source": [
    "sns.set(rc = {'figure.figsize' : (30,20)})\n",
    "ax = sns.countplot(data=data, x=\"Temperature\", hue=\"Defects\")\n",
    "for p in ax.patches:\n",
    "        ax.annotate('%{:.1f}'.format(p.get_height()), (p.get_x()+0.1, p.get_height()+50))"
   ]
  },
  {
   "cell_type": "code",
   "execution_count": 54,
   "id": "5f9cffa6",
   "metadata": {},
   "outputs": [
    {
     "data": {
      "image/png": "[encoded data removed]",
      "text/plain": [
       "<Figure size 2160x1440 with 1 Axes>"
      ]
     },
     "metadata": {},
     "output_type": "display_data"
    }
   ],
   "source": [
    "sns.set(rc = {'figure.figsize' : (30,20)})\n",
    "ax = sns.countplot(data=data, x=\"Humidity\", hue=\"Defects\")\n",
    "for p in ax.patches:\n",
    "        ax.annotate('%{:.1f}'.format(p.get_height()), (p.get_x()+0.1, p.get_height()+50))"
   ]
  },
  {
   "cell_type": "code",
   "execution_count": 55,
   "id": "5c5095e7",
   "metadata": {},
   "outputs": [
    {
     "data": {
      "image/png": "[encoded data removed]",
      "text/plain": [
       "<Figure size 2160x1440 with 1 Axes>"
      ]
     },
     "metadata": {},
     "output_type": "display_data"
    }
   ],
   "source": [
    "sns.set(rc = {'figure.figsize' : (30,20)})\n",
    "ax = sns.countplot(data=data, x=\"Job Temp\", hue=\"Defects\")\n",
    "for p in ax.patches:\n",
    "        ax.annotate('%{:.1f}'.format(p.get_height()), (p.get_x()+0.1, p.get_height()+50))"
   ]
  },
  {
   "cell_type": "markdown",
   "id": "d676f321",
   "metadata": {},
   "source": [
    "# *DATA MODELLING*"
   ]
  },
  {
   "cell_type": "markdown",
   "id": "cb8a5787",
   "metadata": {},
   "source": [
    "## *Train Test Split*"
   ]
  },
  {
   "cell_type": "code",
   "execution_count": 56,
   "id": "332ff2d0",
   "metadata": {},
   "outputs": [],
   "source": [
    "from sklearn.model_selection import train_test_split\n",
    "X = data.drop(['Defects'],axis=1)\n",
    "y = data['Defects']\n",
    "X_train, X_test, y_train, y_test = train_test_split(X, y, test_size=0.2, random_state=100, shuffle=True)"
   ]
  },
  {
   "cell_type": "code",
   "execution_count": 57,
   "id": "3a2da0d2",
   "metadata": {},
   "outputs": [
    {
     "data": {
      "text/plain": [
       "1         1\n",
       "2         0\n",
       "3         1\n",
       "4         1\n",
       "5         1\n",
       "         ..\n",
       "827530    1\n",
       "827531    1\n",
       "827532    1\n",
       "827533    1\n",
       "827534    1\n",
       "Name: Defects, Length: 827534, dtype: int32"
      ]
     },
     "execution_count": 57,
     "metadata": {},
     "output_type": "execute_result"
    }
   ],
   "source": [
    "y"
   ]
  },
  {
   "cell_type": "code",
   "execution_count": 58,
   "id": "cd31707d",
   "metadata": {},
   "outputs": [],
   "source": [
    "# importing modules\n",
    "from sklearn.model_selection import cross_val_score\n",
    "from sklearn.naive_bayes import GaussianNB\n",
    "from sklearn.linear_model import LogisticRegression\n",
    "from sklearn import tree\n",
    "from sklearn.neighbors import KNeighborsClassifier\n",
    "from sklearn.ensemble import RandomForestClassifier\n",
    "from sklearn.svm import SVC\n",
    "from sklearn.model_selection import KFold\n",
    "\n",
    "# metric \n",
    "from sklearn.metrics import confusion_matrix, classification_report"
   ]
  },
  {
   "cell_type": "markdown",
   "id": "342aef53",
   "metadata": {},
   "source": [
    "## *Standardization*"
   ]
  },
  {
   "cell_type": "code",
   "execution_count": 59,
   "id": "61c0ed05",
   "metadata": {},
   "outputs": [],
   "source": [
    "# importing libraries\n",
    "from sklearn.preprocessing import StandardScaler, QuantileTransformer, RobustScaler\n",
    "\n",
    "# Standard Scalar \n",
    "sscaler = StandardScaler()\n",
    "X_train_ss = sscaler.fit_transform(X_train)\n",
    "X_test_ss = sscaler.transform(X_test)\n",
    "\n",
    "# Quantile Transformer \n",
    "qscaler = QuantileTransformer(n_quantiles=100, random_state=43, output_distribution='normal')\n",
    "X_train_qf = qscaler.fit_transform(X_train)\n",
    "X_test_qf = qscaler.transform(X_test)\n",
    "\n",
    "# Robust Scalar\n",
    "rscaler = RobustScaler(with_scaling=True)\n",
    "X_train_rs = rscaler.fit_transform(X_train)\n",
    "X_test_rs = rscaler.transform(X_test)"
   ]
  },
  {
   "cell_type": "markdown",
   "id": "369f9ed8",
   "metadata": {},
   "source": [
    "## *Fitting Models on both real data and SMOTE generated data*"
   ]
  },
  {
   "cell_type": "code",
   "execution_count": 60,
   "id": "5de9c3c3",
   "metadata": {},
   "outputs": [
    {
     "name": "stdout",
     "output_type": "stream",
     "text": [
      "Accuracy is 99.29972750397265\n",
      "Confusion Matrix\n",
      "[[     0   1159]\n",
      " [     0 164348]]\n"
     ]
    }
   ],
   "source": [
    "from sklearn.metrics import confusion_matrix, accuracy_score\n",
    "logistic_model = LogisticRegression()\n",
    "logistic_model.fit(X_train, y_train)\n",
    "y_pred = logistic_model.predict(X_test)\n",
    "\n",
    "accuracy = accuracy_score(y_test,y_pred)*100\n",
    "confusion_mat = confusion_matrix(y_test,y_pred)\n",
    "\n",
    "print(\"Accuracy is\",accuracy)\n",
    "print(\"Confusion Matrix\")\n",
    "print(confusion_mat)"
   ]
  },
  {
   "cell_type": "code",
   "execution_count": 61,
   "id": "b8bf8207",
   "metadata": {},
   "outputs": [
    {
     "name": "stdout",
     "output_type": "stream",
     "text": [
      "Accuracy is 99.29972750397265\n",
      "Confusion Matrix\n",
      "[[     0   1159]\n",
      " [     0 164348]]\n"
     ]
    }
   ],
   "source": [
    "## Standard Scaler\n",
    "from sklearn.metrics import confusion_matrix, accuracy_score\n",
    "logistic_model = LogisticRegression()\n",
    "logistic_model.fit(X_train_ss, y_train)\n",
    "y_pred = logistic_model.predict(X_test_ss)\n",
    "\n",
    "accuracy = accuracy_score(y_test,y_pred)*100\n",
    "confusion_mat = confusion_matrix(y_test,y_pred)\n",
    "\n",
    "print(\"Accuracy is\",accuracy)\n",
    "print(\"Confusion Matrix\")\n",
    "print(confusion_mat)"
   ]
  },
  {
   "cell_type": "code",
   "execution_count": 62,
   "id": "27663160",
   "metadata": {},
   "outputs": [
    {
     "name": "stdout",
     "output_type": "stream",
     "text": [
      "Accuracy is 99.29972750397265\n",
      "Confusion Matrix\n",
      "[[     0   1159]\n",
      " [     0 164348]]\n"
     ]
    }
   ],
   "source": [
    "## Quantile Scaler\n",
    "from sklearn.metrics import confusion_matrix, accuracy_score\n",
    "logistic_model = LogisticRegression()\n",
    "logistic_model.fit(X_train_qf, y_train)\n",
    "y_pred = logistic_model.predict(X_test_qf)\n",
    "\n",
    "accuracy = accuracy_score(y_test,y_pred)*100\n",
    "confusion_mat = confusion_matrix(y_test,y_pred)\n",
    "\n",
    "print(\"Accuracy is\",accuracy)\n",
    "print(\"Confusion Matrix\")\n",
    "print(confusion_mat)"
   ]
  },
  {
   "cell_type": "code",
   "execution_count": 63,
   "id": "556e9dc3",
   "metadata": {},
   "outputs": [],
   "source": [
    "## Decision Tree"
   ]
  },
  {
   "cell_type": "code",
   "execution_count": 64,
   "id": "6c4ba149",
   "metadata": {},
   "outputs": [
    {
     "name": "stdout",
     "output_type": "stream",
     "text": [
      "[[   243    916]\n",
      " [  1134 163214]]\n",
      "              precision    recall  f1-score   support\n",
      "\n",
      "           0       0.18      0.21      0.19      1159\n",
      "           1       0.99      0.99      0.99    164348\n",
      "\n",
      "    accuracy                           0.99    165507\n",
      "   macro avg       0.59      0.60      0.59    165507\n",
      "weighted avg       0.99      0.99      0.99    165507\n",
      "\n",
      "Accuracy is 98.76138169382564\n"
     ]
    }
   ],
   "source": [
    "from sklearn.tree import DecisionTreeClassifier\n",
    "classifier = DecisionTreeClassifier()\n",
    "classifier.fit(X_train, y_train)\n",
    "y_pred = classifier.predict(X_test)\n",
    "from sklearn.metrics import classification_report, confusion_matrix\n",
    "print(confusion_matrix(y_test, y_pred))\n",
    "print(classification_report(y_test, y_pred))\n",
    "accuracy = accuracy_score(y_test,y_pred)*100\n",
    "print(\"Accuracy is\",accuracy)"
   ]
  },
  {
   "cell_type": "markdown",
   "id": "fc04a5fe",
   "metadata": {},
   "source": [
    "## *UPSAMPLING DATA TO PREVENT OVERFITTING*"
   ]
  },
  {
   "cell_type": "code",
   "execution_count": 65,
   "id": "6ac174a6",
   "metadata": {},
   "outputs": [],
   "source": [
    "## Using Imblearn\n",
    "# pip install imblearn"
   ]
  },
  {
   "cell_type": "code",
   "execution_count": 66,
   "id": "245e3082",
   "metadata": {},
   "outputs": [],
   "source": [
    "from imblearn.over_sampling import SMOTE\n",
    "smote  = SMOTE()"
   ]
  },
  {
   "cell_type": "code",
   "execution_count": 67,
   "id": "902f6a07",
   "metadata": {},
   "outputs": [],
   "source": [
    "X_train_smote,y_train_smote = smote.fit_resample(X_train.astype('float'),y_train)"
   ]
  },
  {
   "cell_type": "code",
   "execution_count": 68,
   "id": "8144e69d",
   "metadata": {},
   "outputs": [
    {
     "name": "stdout",
     "output_type": "stream",
     "text": [
      "Before smote : Counter({1: 657433, 0: 4594})\n",
      "After smote : Counter({1: 657433, 0: 657433})\n"
     ]
    }
   ],
   "source": [
    "from collections import Counter\n",
    "print(\"Before smote :\",Counter(y_train))\n",
    "print(\"After smote :\",Counter(y_train_smote))"
   ]
  },
  {
   "cell_type": "code",
   "execution_count": 69,
   "id": "f5d351f1",
   "metadata": {},
   "outputs": [
    {
     "name": "stdout",
     "output_type": "stream",
     "text": [
      "Accuracy is 71.20726011588634\n",
      "Confusion Matrix\n",
      "[[   812    347]\n",
      " [ 47307 117041]]\n"
     ]
    }
   ],
   "source": [
    "from sklearn.metrics import confusion_matrix, accuracy_score\n",
    "logistic_model = LogisticRegression()\n",
    "logistic_model.fit(X_train_smote, y_train_smote)\n",
    "y_pred = logistic_model.predict(X_test)\n",
    "\n",
    "accuracy = accuracy_score(y_test,y_pred)*100\n",
    "confusion_mat = confusion_matrix(y_test,y_pred)\n",
    "\n",
    "print(\"Accuracy is\",accuracy)\n",
    "print(\"Confusion Matrix\")\n",
    "print(confusion_mat)"
   ]
  },
  {
   "cell_type": "code",
   "execution_count": 70,
   "id": "9aa30dc2",
   "metadata": {},
   "outputs": [
    {
     "name": "stdout",
     "output_type": "stream",
     "text": [
      "[[   316    843]\n",
      " [  2752 161596]]\n",
      "              precision    recall  f1-score   support\n",
      "\n",
      "           0       0.10      0.27      0.15      1159\n",
      "           1       0.99      0.98      0.99    164348\n",
      "\n",
      "    accuracy                           0.98    165507\n",
      "   macro avg       0.55      0.63      0.57    165507\n",
      "weighted avg       0.99      0.98      0.98    165507\n",
      "\n",
      "Accuracy is 97.82788643380643\n"
     ]
    }
   ],
   "source": [
    "from sklearn.tree import DecisionTreeClassifier\n",
    "classifier = DecisionTreeClassifier()\n",
    "classifier.fit(X_train_smote, y_train_smote)\n",
    "y_pred = classifier.predict(X_test)\n",
    "\n",
    "from sklearn.metrics import classification_report, confusion_matrix\n",
    "print(confusion_matrix(y_test, y_pred))\n",
    "print(classification_report(y_test, y_pred))\n",
    "accuracy = accuracy_score(y_test,y_pred)*100\n",
    "print(\"Accuracy is\",accuracy)"
   ]
  },
  {
   "cell_type": "code",
   "execution_count": 71,
   "id": "4fdea151",
   "metadata": {},
   "outputs": [],
   "source": [
    "# Random Forest Classifier"
   ]
  },
  {
   "cell_type": "code",
   "execution_count": 72,
   "id": "1c3c6ea9",
   "metadata": {},
   "outputs": [
    {
     "data": {
      "text/plain": [
       "0.9938733709148253"
      ]
     },
     "execution_count": 72,
     "metadata": {},
     "output_type": "execute_result"
    }
   ],
   "source": [
    "# without upsampling\n",
    "from sklearn.ensemble import RandomForestClassifier\n",
    "\n",
    "random_forest = RandomForestClassifier(n_estimators=30, max_depth=10, random_state=1)\n",
    "random_forest.fit(X_train, y_train)\n",
    "from sklearn.metrics import accuracy_score\n",
    "\n",
    "y_predict = random_forest.predict(X_test)\n",
    "accuracy_score(y_test, y_predict)"
   ]
  },
  {
   "cell_type": "code",
   "execution_count": 73,
   "id": "fafba777",
   "metadata": {},
   "outputs": [
    {
     "data": {
      "text/plain": [
       "0.8864761007087314"
      ]
     },
     "execution_count": 73,
     "metadata": {},
     "output_type": "execute_result"
    }
   ],
   "source": [
    "# with upsampling\n",
    "from sklearn.ensemble import RandomForestClassifier\n",
    "\n",
    "random_forest = RandomForestClassifier(n_estimators=30, max_depth=10, random_state=1)\n",
    "random_forest.fit(X_train_smote, y_train_smote)\n",
    "from sklearn.metrics import accuracy_score\n",
    "\n",
    "y_predict = random_forest.predict(X_test)\n",
    "accuracy_score(y_test, y_predict)"
   ]
  },
  {
   "cell_type": "code",
   "execution_count": 74,
   "id": "5d2f79b9",
   "metadata": {},
   "outputs": [],
   "source": [
    "## Gradient Boosting"
   ]
  },
  {
   "cell_type": "code",
   "execution_count": 75,
   "id": "caf317ee",
   "metadata": {},
   "outputs": [],
   "source": [
    "import pandas as pd\n",
    "from sklearn.preprocessing import MinMaxScaler\n",
    "from sklearn.model_selection import train_test_split\n",
    "from sklearn.metrics import classification_report, confusion_matrix\n",
    "from sklearn.ensemble import GradientBoostingClassifier"
   ]
  },
  {
   "cell_type": "code",
   "execution_count": 76,
   "id": "45e49503",
   "metadata": {},
   "outputs": [
    {
     "name": "stdout",
     "output_type": "stream",
     "text": [
      "Learning rate:  0.05\n",
      "Accuracy score (training): 0.993\n",
      "Accuracy score (validation): 0.993\n",
      "Learning rate:  0.075\n",
      "Accuracy score (training): 0.993\n",
      "Accuracy score (validation): 0.993\n",
      "Learning rate:  0.1\n",
      "Accuracy score (training): 0.993\n",
      "Accuracy score (validation): 0.993\n",
      "Learning rate:  0.25\n",
      "Accuracy score (training): 0.993\n",
      "Accuracy score (validation): 0.993\n",
      "Learning rate:  0.5\n",
      "Accuracy score (training): 0.994\n",
      "Accuracy score (validation): 0.994\n",
      "Learning rate:  0.75\n",
      "Accuracy score (training): 0.994\n",
      "Accuracy score (validation): 0.994\n",
      "Learning rate:  1\n",
      "Accuracy score (training): 0.993\n",
      "Accuracy score (validation): 0.993\n"
     ]
    }
   ],
   "source": [
    "# without upsampling\n",
    "lr_list = [0.05, 0.075, 0.1, 0.25, 0.5, 0.75, 1]\n",
    "\n",
    "for learning_rate in lr_list:\n",
    "    gb_clf = GradientBoostingClassifier(n_estimators=20, learning_rate=learning_rate, max_features=2, max_depth=2, random_state=0)\n",
    "    gb_clf.fit(X_train, y_train)\n",
    "\n",
    "    print(\"Learning rate: \", learning_rate)\n",
    "    print(\"Accuracy score (training): {0:.3f}\".format(gb_clf.score(X_train, y_train)))\n",
    "    print(\"Accuracy score (validation): {0:.3f}\".format(gb_clf.score(X_test, y_test)))"
   ]
  },
  {
   "cell_type": "code",
   "execution_count": 77,
   "id": "80b417d1",
   "metadata": {},
   "outputs": [
    {
     "name": "stdout",
     "output_type": "stream",
     "text": [
      "Confusion Matrix:\n",
      "[[   180    979]\n",
      " [    63 164285]]\n",
      "Classification Report\n",
      "              precision    recall  f1-score   support\n",
      "\n",
      "           0       0.74      0.16      0.26      1159\n",
      "           1       0.99      1.00      1.00    164348\n",
      "\n",
      "    accuracy                           0.99    165507\n",
      "   macro avg       0.87      0.58      0.63    165507\n",
      "weighted avg       0.99      0.99      0.99    165507\n",
      "\n"
     ]
    }
   ],
   "source": [
    "gb_clf2 = GradientBoostingClassifier(n_estimators=20, learning_rate=0.5, max_features=2, max_depth=2, random_state=0)\n",
    "gb_clf2.fit(X_train, y_train)\n",
    "predictions = gb_clf2.predict(X_test)\n",
    "\n",
    "print(\"Confusion Matrix:\")\n",
    "print(confusion_matrix(y_test, predictions))\n",
    "\n",
    "print(\"Classification Report\")\n",
    "print(classification_report(y_test, predictions))"
   ]
  },
  {
   "cell_type": "code",
   "execution_count": 78,
   "id": "a5203e82",
   "metadata": {},
   "outputs": [
    {
     "name": "stdout",
     "output_type": "stream",
     "text": [
      "Learning rate:  0.05\n",
      "Accuracy score (training): 0.724\n",
      "Accuracy score (validation): 0.725\n",
      "Learning rate:  0.075\n",
      "Accuracy score (training): 0.728\n",
      "Accuracy score (validation): 0.729\n",
      "Learning rate:  0.1\n",
      "Accuracy score (training): 0.730\n",
      "Accuracy score (validation): 0.730\n",
      "Learning rate:  0.25\n",
      "Accuracy score (training): 0.765\n",
      "Accuracy score (validation): 0.767\n",
      "Learning rate:  0.5\n",
      "Accuracy score (training): 0.825\n",
      "Accuracy score (validation): 0.826\n",
      "Learning rate:  0.75\n",
      "Accuracy score (training): 0.857\n",
      "Accuracy score (validation): 0.859\n",
      "Learning rate:  1\n",
      "Accuracy score (training): 0.882\n",
      "Accuracy score (validation): 0.883\n"
     ]
    }
   ],
   "source": [
    "# with upsampling\n",
    "lr_list = [0.05, 0.075, 0.1, 0.25, 0.5, 0.75, 1]\n",
    "\n",
    "for learning_rate in lr_list:\n",
    "    gb_clf = GradientBoostingClassifier(n_estimators=20, learning_rate=learning_rate, max_features=2, max_depth=2, random_state=0)\n",
    "    gb_clf.fit(X_train_smote, y_train_smote)\n",
    "\n",
    "    print(\"Learning rate: \", learning_rate)\n",
    "    print(\"Accuracy score (training): {0:.3f}\".format(gb_clf.score(X_train, y_train)))\n",
    "    print(\"Accuracy score (validation): {0:.3f}\".format(gb_clf.score(X_test, y_test)))"
   ]
  },
  {
   "cell_type": "code",
   "execution_count": 79,
   "id": "8b075d95",
   "metadata": {},
   "outputs": [
    {
     "name": "stdout",
     "output_type": "stream",
     "text": [
      "Confusion Matrix:\n",
      "[[   802    357]\n",
      " [ 28501 135847]]\n",
      "Classification Report\n",
      "              precision    recall  f1-score   support\n",
      "\n",
      "           0       0.03      0.69      0.05      1159\n",
      "           1       1.00      0.83      0.90    164348\n",
      "\n",
      "    accuracy                           0.83    165507\n",
      "   macro avg       0.51      0.76      0.48    165507\n",
      "weighted avg       0.99      0.83      0.90    165507\n",
      "\n"
     ]
    }
   ],
   "source": [
    "gb_clf2 = GradientBoostingClassifier(n_estimators=20, learning_rate=0.5, max_features=2, max_depth=2, random_state=0)\n",
    "gb_clf2.fit(X_train_smote, y_train_smote)\n",
    "predictions = gb_clf2.predict(X_test)\n",
    "\n",
    "print(\"Confusion Matrix:\")\n",
    "print(confusion_matrix(y_test, predictions))\n",
    "\n",
    "print(\"Classification Report\")\n",
    "print(classification_report(y_test, predictions))"
   ]
  },
  {
   "cell_type": "code",
   "execution_count": 80,
   "id": "1e2490f6",
   "metadata": {},
   "outputs": [],
   "source": [
    "## XG BOOST"
   ]
  },
  {
   "cell_type": "code",
   "execution_count": 81,
   "id": "30884ffd",
   "metadata": {},
   "outputs": [
    {
     "name": "stdout",
     "output_type": "stream",
     "text": [
      "Requirement already satisfied: xgboost in c:\\users\\kumar aman\\anaconda3\\lib\\site-packages (1.6.2)\n",
      "Requirement already satisfied: numpy in c:\\users\\kumar aman\\anaconda3\\lib\\site-packages (from xgboost) (1.20.3)\n",
      "Requirement already satisfied: scipy in c:\\users\\kumar aman\\anaconda3\\lib\\site-packages (from xgboost) (1.7.1)\n",
      "Note: you may need to restart the kernel to use updated packages.\n"
     ]
    }
   ],
   "source": [
    "pip install xgboost"
   ]
  },
  {
   "cell_type": "code",
   "execution_count": 82,
   "id": "162be1b5",
   "metadata": {},
   "outputs": [
    {
     "name": "stdout",
     "output_type": "stream",
     "text": [
      "0.9939156651984509\n"
     ]
    }
   ],
   "source": [
    "# without upsampling\n",
    "from xgboost import XGBClassifier\n",
    "xgb_clf = XGBClassifier()\n",
    "xgb_clf.fit(X_train, y_train)\n",
    "score = xgb_clf.score(X_test, y_test)\n",
    "print(score)"
   ]
  },
  {
   "cell_type": "code",
   "execution_count": 83,
   "id": "7bd3a3f6",
   "metadata": {},
   "outputs": [
    {
     "name": "stdout",
     "output_type": "stream",
     "text": [
      "0.9790643296053944\n"
     ]
    }
   ],
   "source": [
    "# with upsampling\n",
    "from xgboost import XGBClassifier\n",
    "xgb_clf = XGBClassifier()\n",
    "xgb_clf.fit(X_train_smote, y_train_smote)\n",
    "score = xgb_clf.score(X_test, y_test)\n",
    "print(score)"
   ]
  },
  {
   "cell_type": "code",
   "execution_count": null,
   "id": "99ccf944",
   "metadata": {},
   "outputs": [],
   "source": []
  },
  {
   "cell_type": "code",
   "execution_count": 84,
   "id": "b4ebfb0a",
   "metadata": {},
   "outputs": [],
   "source": [
    "### TRY ###"
   ]
  },
  {
   "cell_type": "code",
   "execution_count": 85,
   "id": "bdf4c05e",
   "metadata": {},
   "outputs": [],
   "source": [
    "import numpy as np\n",
    "from sklearn.svm import SVC"
   ]
  },
  {
   "cell_type": "code",
   "execution_count": 86,
   "id": "57462bec",
   "metadata": {},
   "outputs": [
    {
     "data": {
      "text/html": [
       "<div>\n",
       "<style scoped>\n",
       "    .dataframe tbody tr th:only-of-type {\n",
       "        vertical-align: middle;\n",
       "    }\n",
       "\n",
       "    .dataframe tbody tr th {\n",
       "        vertical-align: top;\n",
       "    }\n",
       "\n",
       "    .dataframe thead th {\n",
       "        text-align: right;\n",
       "    }\n",
       "</style>\n",
       "<table border=\"1\" class=\"dataframe\">\n",
       "  <thead>\n",
       "    <tr style=\"text-align: right;\">\n",
       "      <th></th>\n",
       "      <th>Current</th>\n",
       "      <th>Humidity</th>\n",
       "      <th>Temperature</th>\n",
       "      <th>Flow</th>\n",
       "      <th>Job Temp</th>\n",
       "      <th>Voltage</th>\n",
       "    </tr>\n",
       "  </thead>\n",
       "  <tbody>\n",
       "    <tr>\n",
       "      <th>0</th>\n",
       "      <td>5.480000</td>\n",
       "      <td>66.000000</td>\n",
       "      <td>26.000000</td>\n",
       "      <td>0.000000</td>\n",
       "      <td>34.000000</td>\n",
       "      <td>10.183000</td>\n",
       "    </tr>\n",
       "    <tr>\n",
       "      <th>1</th>\n",
       "      <td>4.310000</td>\n",
       "      <td>78.000000</td>\n",
       "      <td>24.000000</td>\n",
       "      <td>0.000000</td>\n",
       "      <td>29.600000</td>\n",
       "      <td>0.000000</td>\n",
       "    </tr>\n",
       "    <tr>\n",
       "      <th>2</th>\n",
       "      <td>-1.220000</td>\n",
       "      <td>82.000000</td>\n",
       "      <td>25.000000</td>\n",
       "      <td>0.970000</td>\n",
       "      <td>31.200000</td>\n",
       "      <td>0.000000</td>\n",
       "    </tr>\n",
       "    <tr>\n",
       "      <th>3</th>\n",
       "      <td>24.980000</td>\n",
       "      <td>77.000000</td>\n",
       "      <td>24.000000</td>\n",
       "      <td>0.000000</td>\n",
       "      <td>42.600000</td>\n",
       "      <td>10.282000</td>\n",
       "    </tr>\n",
       "    <tr>\n",
       "      <th>4</th>\n",
       "      <td>3.100000</td>\n",
       "      <td>79.000000</td>\n",
       "      <td>24.000000</td>\n",
       "      <td>0.060000</td>\n",
       "      <td>29.100000</td>\n",
       "      <td>0.000000</td>\n",
       "    </tr>\n",
       "    <tr>\n",
       "      <th>...</th>\n",
       "      <td>...</td>\n",
       "      <td>...</td>\n",
       "      <td>...</td>\n",
       "      <td>...</td>\n",
       "      <td>...</td>\n",
       "      <td>...</td>\n",
       "    </tr>\n",
       "    <tr>\n",
       "      <th>1314861</th>\n",
       "      <td>33.176702</td>\n",
       "      <td>67.393743</td>\n",
       "      <td>24.000000</td>\n",
       "      <td>3.627001</td>\n",
       "      <td>56.800000</td>\n",
       "      <td>6.781688</td>\n",
       "    </tr>\n",
       "    <tr>\n",
       "      <th>1314862</th>\n",
       "      <td>20.635584</td>\n",
       "      <td>77.608140</td>\n",
       "      <td>24.000000</td>\n",
       "      <td>3.097151</td>\n",
       "      <td>3251.561240</td>\n",
       "      <td>14.110638</td>\n",
       "    </tr>\n",
       "    <tr>\n",
       "      <th>1314863</th>\n",
       "      <td>8.110028</td>\n",
       "      <td>67.615313</td>\n",
       "      <td>24.000000</td>\n",
       "      <td>2.759998</td>\n",
       "      <td>56.800000</td>\n",
       "      <td>12.099636</td>\n",
       "    </tr>\n",
       "    <tr>\n",
       "      <th>1314864</th>\n",
       "      <td>26.570475</td>\n",
       "      <td>58.000000</td>\n",
       "      <td>24.000000</td>\n",
       "      <td>0.000000</td>\n",
       "      <td>38.530685</td>\n",
       "      <td>9.983200</td>\n",
       "    </tr>\n",
       "    <tr>\n",
       "      <th>1314865</th>\n",
       "      <td>24.960407</td>\n",
       "      <td>74.551029</td>\n",
       "      <td>22.448971</td>\n",
       "      <td>0.011021</td>\n",
       "      <td>27.604074</td>\n",
       "      <td>5.298773</td>\n",
       "    </tr>\n",
       "  </tbody>\n",
       "</table>\n",
       "<p>1314866 rows × 6 columns</p>\n",
       "</div>"
      ],
      "text/plain": [
       "           Current   Humidity  Temperature      Flow     Job Temp    Voltage\n",
       "0         5.480000  66.000000    26.000000  0.000000    34.000000  10.183000\n",
       "1         4.310000  78.000000    24.000000  0.000000    29.600000   0.000000\n",
       "2        -1.220000  82.000000    25.000000  0.970000    31.200000   0.000000\n",
       "3        24.980000  77.000000    24.000000  0.000000    42.600000  10.282000\n",
       "4         3.100000  79.000000    24.000000  0.060000    29.100000   0.000000\n",
       "...            ...        ...          ...       ...          ...        ...\n",
       "1314861  33.176702  67.393743    24.000000  3.627001    56.800000   6.781688\n",
       "1314862  20.635584  77.608140    24.000000  3.097151  3251.561240  14.110638\n",
       "1314863   8.110028  67.615313    24.000000  2.759998    56.800000  12.099636\n",
       "1314864  26.570475  58.000000    24.000000  0.000000    38.530685   9.983200\n",
       "1314865  24.960407  74.551029    22.448971  0.011021    27.604074   5.298773\n",
       "\n",
       "[1314866 rows x 6 columns]"
      ]
     },
     "execution_count": 86,
     "metadata": {},
     "output_type": "execute_result"
    }
   ],
   "source": [
    " X_train_smote"
   ]
  },
  {
   "cell_type": "code",
   "execution_count": 87,
   "id": "017d06eb",
   "metadata": {},
   "outputs": [],
   "source": [
    "X_svc = X_train_smote.drop(['Temperature','Flow','Job Temp','Voltage'] , axis = 1)"
   ]
  },
  {
   "cell_type": "code",
   "execution_count": 88,
   "id": "df63f827",
   "metadata": {},
   "outputs": [],
   "source": [
    "X_train, X_test, y_train, y_test = train_test_split(X_svc, y_train_smote,\n",
    "                                   test_size=0.3,stratify= y_train_smote,\n",
    "                                   random_state=32,shuffle = True)"
   ]
  },
  {
   "cell_type": "code",
   "execution_count": 89,
   "id": "1746e8ce",
   "metadata": {},
   "outputs": [],
   "source": [
    "# svc_model = SVC(kernel='linear', random_state=32)\n",
    "# svc_model.fit(X_train, y_train)"
   ]
  },
  {
   "cell_type": "code",
   "execution_count": 90,
   "id": "a19201fe",
   "metadata": {},
   "outputs": [],
   "source": [
    "# import matplotlib.pyplot as plt\n",
    "# import seaborn as snsplt.figure(figsize=(10, 8))# Plotting our two-features-space\n",
    "# sns.scatterplot(x=X_train[:, 0], \n",
    "#                 y=X_train[:, 1], \n",
    "#                 hue=y_train, \n",
    "#                 s=8);# Constructing a hyperplane using a formula.\n",
    "# w = svc_model.coef_[0]           # w consists of 2 elements\n",
    "# b = svc_model.intercept_[0]      # b consists of 1 element\n",
    "# x_points = np.linspace(-1, 1)    # generating x-points from -1 to 1\n",
    "# y_points = -(w[0] / w[1]) * x_points - b / w[1]  # getting corresponding y-points# Plotting a red hyperplane\n",
    "# plt.plot(x_points, y_points, c='r')"
   ]
  },
  {
   "cell_type": "code",
   "execution_count": null,
   "id": "4bbc293a",
   "metadata": {},
   "outputs": [],
   "source": []
  }
 ],
 "metadata": {
  "kernelspec": {
   "display_name": "Python 3 (ipykernel)",
   "language": "python",
   "name": "python3"
  },
  "language_info": {
   "codemirror_mode": {
    "name": "ipython",
    "version": 3
   },
   "file_extension": ".py",
   "mimetype": "text/x-python",
   "name": "python",
   "nbconvert_exporter": "python",
   "pygments_lexer": "ipython3",
   "version": "3.9.7"
  },
  "varInspector": {
   "cols": {
    "lenName": 16,
    "lenType": 16,
    "lenVar": 40
   },
   "kernels_config": {
    "python": {
     "delete_cmd_postfix": "",
     "delete_cmd_prefix": "del ",
     "library": "var_list.py",
     "varRefreshCmd": "print(var_dic_list())"
    },
    "r": {
     "delete_cmd_postfix": ") ",
     "delete_cmd_prefix": "rm(",
     "library": "var_list.r",
     "varRefreshCmd": "cat(var_dic_list()) "
    }
   },
   "types_to_exclude": [
    "module",
    "function",
    "builtin_function_or_method",
    "instance",
    "_Feature"
   ],
   "window_display": false
  }
 },
 "nbformat": 4,
 "nbformat_minor": 5
}
